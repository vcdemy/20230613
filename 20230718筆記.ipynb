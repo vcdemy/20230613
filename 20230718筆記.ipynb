{
  "nbformat": 4,
  "nbformat_minor": 0,
  "metadata": {
    "colab": {
      "provenance": [],
      "authorship_tag": "ABX9TyMh30BlcSsWPKuDoLwmqqGX",
      "include_colab_link": true
    },
    "kernelspec": {
      "name": "python3",
      "display_name": "Python 3"
    },
    "language_info": {
      "name": "python"
    }
  },
  "cells": [
    {
      "cell_type": "markdown",
      "metadata": {
        "id": "view-in-github",
        "colab_type": "text"
      },
      "source": [
        "<a href=\"https://colab.research.google.com/github/vcdemy/20230613/blob/main/20230718%E7%AD%86%E8%A8%98.ipynb\" target=\"_parent\"><img src=\"https://colab.research.google.com/assets/colab-badge.svg\" alt=\"Open In Colab\"/></a>"
      ]
    },
    {
      "cell_type": "markdown",
      "source": [
        "# 20230718筆記"
      ],
      "metadata": {
        "id": "bRY7t2gl4Yi6"
      }
    },
    {
      "cell_type": "markdown",
      "source": [
        "## 資料分析基礎\n",
        "\n",
        "* Numpy\n",
        "  * ndarray\n",
        "  * ufunc\n",
        "* Pandas\n",
        "  * Series\n",
        "  * DatFrame\n",
        "* MatPlotLib"
      ],
      "metadata": {
        "id": "Ccv47lq04c1B"
      }
    },
    {
      "cell_type": "markdown",
      "source": [
        "## 載入慣用法\n",
        "\n",
        "```python\n",
        "import numpy as np\n",
        "import pandas as pd\n",
        "import matplotlib.pyplot as plt\n",
        "```"
      ],
      "metadata": {
        "id": "yyPVEvd_5PfG"
      }
    },
    {
      "cell_type": "markdown",
      "source": [
        "## MatPlotLib (Matrix Plotting Library)\n",
        "\n",
        "* pyplot\n",
        "* artist"
      ],
      "metadata": {
        "id": "PyjA7qLn50EQ"
      }
    },
    {
      "cell_type": "code",
      "execution_count": 1,
      "metadata": {
        "id": "oCpP1EhP2FqD"
      },
      "outputs": [],
      "source": []
    },
    {
      "cell_type": "code",
      "source": [],
      "metadata": {
        "colab": {
          "base_uri": "https://localhost:8080/"
        },
        "id": "yLZL3fVy5HEo",
        "outputId": "8ed00612-f163-41e1-f69b-c6ae6ba2da32"
      },
      "execution_count": 2,
      "outputs": [
        {
          "output_type": "execute_result",
          "data": {
            "text/plain": [
              "[1, 2, 3, 4, 5, 6]"
            ]
          },
          "metadata": {},
          "execution_count": 2
        }
      ]
    },
    {
      "cell_type": "code",
      "source": [],
      "metadata": {
        "id": "tuyWMyh-5IRa"
      },
      "execution_count": null,
      "outputs": []
    }
  ]
}