{
  "nbformat": 4,
  "nbformat_minor": 0,
  "metadata": {
    "colab": {
      "provenance": [],
      "authorship_tag": "ABX9TyNNMoSgPDDoo4e7XJNWuEJg",
      "include_colab_link": true
    },
    "kernelspec": {
      "name": "python3",
      "display_name": "Python 3"
    },
    "language_info": {
      "name": "python"
    }
  },
  "cells": [
    {
      "cell_type": "markdown",
      "metadata": {
        "id": "view-in-github",
        "colab_type": "text"
      },
      "source": [
        "<a href=\"https://colab.research.google.com/github/vcdemy/20230613/blob/main/20230801%E7%AD%86%E8%A8%98.ipynb\" target=\"_parent\"><img src=\"https://colab.research.google.com/assets/colab-badge.svg\" alt=\"Open In Colab\"/></a>"
      ]
    },
    {
      "cell_type": "markdown",
      "source": [
        "# 20230801筆記"
      ],
      "metadata": {
        "id": "2E5a6xzRtz7g"
      }
    },
    {
      "cell_type": "markdown",
      "source": [
        "## Object Oriented Programming, OOP"
      ],
      "metadata": {
        "id": "51CdzjUIt2g8"
      }
    },
    {
      "cell_type": "markdown",
      "source": [
        "函式定義:\n",
        "\n",
        "```python\n",
        "def foo():\n",
        "  print(\"Hello World!\")\n",
        "```\n",
        "\n",
        "函式呼叫:\n",
        "```python\n",
        "foo()\n",
        "```"
      ],
      "metadata": {
        "id": "gD6IMFXtt5F9"
      }
    },
    {
      "cell_type": "markdown",
      "source": [
        "類別定義:\n",
        "\n",
        "```python\n",
        "class Sprite:\n",
        "  pass\n",
        "```\n",
        "\n",
        "產生物件 (Instantiation):\n",
        "```python\n",
        "Sprite()\n",
        "```\n",
        "\n",
        "物件(Object)實際上就是類別(Class)的實例(Instance)。"
      ],
      "metadata": {
        "id": "Y28XITqEuPl0"
      }
    },
    {
      "cell_type": "code",
      "execution_count": null,
      "metadata": {
        "id": "be_49dmTtug_"
      },
      "outputs": [],
      "source": []
    }
  ]
}