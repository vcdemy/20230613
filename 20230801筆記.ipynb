{
  "nbformat": 4,
  "nbformat_minor": 0,
  "metadata": {
    "colab": {
      "provenance": [],
      "authorship_tag": "ABX9TyN4v05Vv2fi4jyNstynReBq",
      "include_colab_link": true
    },
    "kernelspec": {
      "name": "python3",
      "display_name": "Python 3"
    },
    "language_info": {
      "name": "python"
    }
  },
  "cells": [
    {
      "cell_type": "markdown",
      "metadata": {
        "id": "view-in-github",
        "colab_type": "text"
      },
      "source": [
        "<a href=\"https://colab.research.google.com/github/vcdemy/20230613/blob/main/20230801%E7%AD%86%E8%A8%98.ipynb\" target=\"_parent\"><img src=\"https://colab.research.google.com/assets/colab-badge.svg\" alt=\"Open In Colab\"/></a>"
      ]
    },
    {
      "cell_type": "markdown",
      "source": [
        "# 20230801筆記"
      ],
      "metadata": {
        "id": "2E5a6xzRtz7g"
      }
    },
    {
      "cell_type": "markdown",
      "source": [
        "## Object Oriented Programming, OOP"
      ],
      "metadata": {
        "id": "51CdzjUIt2g8"
      }
    },
    {
      "cell_type": "markdown",
      "source": [
        "函式定義:\n",
        "\n",
        "```python\n",
        "def foo():\n",
        "  print(\"Hello World!\")\n",
        "```\n",
        "\n",
        "函式呼叫:\n",
        "```python\n",
        "foo()\n",
        "```"
      ],
      "metadata": {
        "id": "gD6IMFXtt5F9"
      }
    },
    {
      "cell_type": "markdown",
      "source": [
        "類別定義:\n",
        "\n",
        "```python\n",
        "class Sprite:\n",
        "  pass\n",
        "```\n",
        "\n",
        "產生物件 (Instantiation):\n",
        "```python\n",
        "Sprite()\n",
        "```\n",
        "\n",
        "物件(Object)實際上就是類別(Class)的實例(Instance)。"
      ],
      "metadata": {
        "id": "Y28XITqEuPl0"
      }
    },
    {
      "cell_type": "code",
      "execution_count": 1,
      "metadata": {
        "id": "be_49dmTtug_"
      },
      "outputs": [],
      "source": [
        "class Sprite:\n",
        "  pass"
      ]
    },
    {
      "cell_type": "code",
      "source": [
        "x = Sprite()"
      ],
      "metadata": {
        "id": "naRp193WwoAa"
      },
      "execution_count": 2,
      "outputs": []
    },
    {
      "cell_type": "code",
      "source": [
        "type(x)"
      ],
      "metadata": {
        "colab": {
          "base_uri": "https://localhost:8080/"
        },
        "id": "UrIp80gFwydt",
        "outputId": "3119967d-c3c3-498c-bbf8-646f8c107e44"
      },
      "execution_count": 3,
      "outputs": [
        {
          "output_type": "execute_result",
          "data": {
            "text/plain": [
              "__main__.Sprite"
            ]
          },
          "metadata": {},
          "execution_count": 3
        }
      ]
    },
    {
      "cell_type": "code",
      "source": [
        "x"
      ],
      "metadata": {
        "colab": {
          "base_uri": "https://localhost:8080/"
        },
        "id": "YkEZA_3Aw3Q1",
        "outputId": "64a20978-7e90-445f-c817-d1990a9e2f8b"
      },
      "execution_count": 4,
      "outputs": [
        {
          "output_type": "execute_result",
          "data": {
            "text/plain": [
              "<__main__.Sprite at 0x7d16e25139a0>"
            ]
          },
          "metadata": {},
          "execution_count": 4
        }
      ]
    },
    {
      "cell_type": "code",
      "source": [
        "hex(id(x))"
      ],
      "metadata": {
        "colab": {
          "base_uri": "https://localhost:8080/",
          "height": 35
        },
        "id": "TOl1Dnctw7IJ",
        "outputId": "685a1a4e-f6e6-4e1d-f646-4ad98dedfa6c"
      },
      "execution_count": 5,
      "outputs": [
        {
          "output_type": "execute_result",
          "data": {
            "text/plain": [
              "'0x7d16e25139a0'"
            ],
            "application/vnd.google.colaboratory.intrinsic+json": {
              "type": "string"
            }
          },
          "metadata": {},
          "execution_count": 5
        }
      ]
    },
    {
      "cell_type": "code",
      "source": [
        "x.x = 100\n",
        "x.y = -100\n",
        "x.size = 100\n",
        "x.direction = 90"
      ],
      "metadata": {
        "id": "-JB5xvFyxICc"
      },
      "execution_count": 6,
      "outputs": []
    },
    {
      "cell_type": "code",
      "source": [
        "x.__dict__"
      ],
      "metadata": {
        "colab": {
          "base_uri": "https://localhost:8080/"
        },
        "id": "MupW1MXIxmay",
        "outputId": "0a83867f-b49b-4004-e947-c950c177da1b"
      },
      "execution_count": 7,
      "outputs": [
        {
          "output_type": "execute_result",
          "data": {
            "text/plain": [
              "{'x': 100, 'y': -100, 'size': 100, 'direction': 90}"
            ]
          },
          "metadata": {},
          "execution_count": 7
        }
      ]
    },
    {
      "cell_type": "code",
      "source": [
        "y = Sprite()"
      ],
      "metadata": {
        "id": "6mR4AQglx4M5"
      },
      "execution_count": 8,
      "outputs": []
    },
    {
      "cell_type": "code",
      "source": [
        "y.__dict__"
      ],
      "metadata": {
        "colab": {
          "base_uri": "https://localhost:8080/"
        },
        "id": "kF9t02cnyBZ7",
        "outputId": "de88f32f-2d3b-41de-f679-c8137d500307"
      },
      "execution_count": 9,
      "outputs": [
        {
          "output_type": "execute_result",
          "data": {
            "text/plain": [
              "{}"
            ]
          },
          "metadata": {},
          "execution_count": 9
        }
      ]
    },
    {
      "cell_type": "code",
      "source": [
        "class Sprite:\n",
        "  def __init__(self, x=0, y=0, size=100, direction=90):\n",
        "    self.x = x\n",
        "    self.y = y\n",
        "    self.size = size\n",
        "    self.direction = direction\n",
        "  def move_x(self, x=10):\n",
        "    self.x += x"
      ],
      "metadata": {
        "id": "z-N3Z4uTyC6R"
      },
      "execution_count": 30,
      "outputs": []
    },
    {
      "cell_type": "code",
      "source": [
        "x1 = Sprite()"
      ],
      "metadata": {
        "id": "-ld-PPMLytl-"
      },
      "execution_count": 11,
      "outputs": []
    },
    {
      "cell_type": "code",
      "source": [
        "x1.__dict__"
      ],
      "metadata": {
        "colab": {
          "base_uri": "https://localhost:8080/"
        },
        "id": "TkZWXhQvz_4R",
        "outputId": "ffb9cf56-655d-4523-8b1a-b37da3f4611a"
      },
      "execution_count": 12,
      "outputs": [
        {
          "output_type": "execute_result",
          "data": {
            "text/plain": [
              "{'x': 0, 'y': 0, 'size': 100, 'direction': 90}"
            ]
          },
          "metadata": {},
          "execution_count": 12
        }
      ]
    },
    {
      "cell_type": "code",
      "source": [
        "y1 = Sprite()"
      ],
      "metadata": {
        "id": "7ps_aSLf0Cnm"
      },
      "execution_count": 13,
      "outputs": []
    },
    {
      "cell_type": "code",
      "source": [
        "y1.__dict__"
      ],
      "metadata": {
        "colab": {
          "base_uri": "https://localhost:8080/"
        },
        "id": "eHBIAOsL0P4I",
        "outputId": "4d90a88f-42ae-4603-9277-18dd27177b5e"
      },
      "execution_count": 14,
      "outputs": [
        {
          "output_type": "execute_result",
          "data": {
            "text/plain": [
              "{'x': 0, 'y': 0, 'size': 100, 'direction': 90}"
            ]
          },
          "metadata": {},
          "execution_count": 14
        }
      ]
    },
    {
      "cell_type": "code",
      "source": [
        "x1.move_x()"
      ],
      "metadata": {
        "id": "d-FZB51J0R0y"
      },
      "execution_count": 15,
      "outputs": []
    },
    {
      "cell_type": "code",
      "source": [
        "x1.__dict__"
      ],
      "metadata": {
        "colab": {
          "base_uri": "https://localhost:8080/"
        },
        "id": "xKOL6QFA0tqG",
        "outputId": "d3f07a8d-d46c-4dbc-9a8e-46d37ef7aea0"
      },
      "execution_count": 16,
      "outputs": [
        {
          "output_type": "execute_result",
          "data": {
            "text/plain": [
              "{'x': 10, 'y': 0, 'size': 100, 'direction': 90}"
            ]
          },
          "metadata": {},
          "execution_count": 16
        }
      ]
    },
    {
      "cell_type": "markdown",
      "source": [
        "## 繼承(Inheritance)"
      ],
      "metadata": {
        "id": "DMo-hUuZ7h2b"
      }
    },
    {
      "cell_type": "code",
      "source": [
        "class Alien1(Sprite):\n",
        "  pass"
      ],
      "metadata": {
        "id": "iCdM27Tv0vPw"
      },
      "execution_count": 18,
      "outputs": []
    },
    {
      "cell_type": "code",
      "source": [
        "x2 = Alien1()"
      ],
      "metadata": {
        "id": "zy53_b7J7dN6"
      },
      "execution_count": 19,
      "outputs": []
    },
    {
      "cell_type": "code",
      "source": [
        "x2.__dict__"
      ],
      "metadata": {
        "colab": {
          "base_uri": "https://localhost:8080/"
        },
        "id": "OV4elPUk7rUB",
        "outputId": "881bb885-c741-40b9-a68b-0480a38e09c5"
      },
      "execution_count": 20,
      "outputs": [
        {
          "output_type": "execute_result",
          "data": {
            "text/plain": [
              "{'x': 0, 'y': 0, 'size': 100, 'direction': 90}"
            ]
          },
          "metadata": {},
          "execution_count": 20
        }
      ]
    },
    {
      "cell_type": "code",
      "source": [
        "x2.move_x()"
      ],
      "metadata": {
        "id": "QIg0mQgC7tPn"
      },
      "execution_count": 21,
      "outputs": []
    },
    {
      "cell_type": "code",
      "source": [
        "x2.__dict__"
      ],
      "metadata": {
        "colab": {
          "base_uri": "https://localhost:8080/"
        },
        "id": "AL3WKKJj8DcO",
        "outputId": "07bf7029-578a-4c0b-9251-598f13212c97"
      },
      "execution_count": 22,
      "outputs": [
        {
          "output_type": "execute_result",
          "data": {
            "text/plain": [
              "{'x': 10, 'y': 0, 'size': 100, 'direction': 90}"
            ]
          },
          "metadata": {},
          "execution_count": 22
        }
      ]
    },
    {
      "cell_type": "code",
      "source": [
        "class Alien2(Sprite):\n",
        "  def __init__(self, x=0, y=0, size=100, direction=90, lives=5):\n",
        "    super().__init__(x, y, size, direction)\n",
        "    self.lives = lives\n",
        "  def move_y(self, y=10):\n",
        "    self.y += y"
      ],
      "metadata": {
        "id": "dc6DvDpT8EhI"
      },
      "execution_count": 29,
      "outputs": []
    },
    {
      "cell_type": "code",
      "source": [
        "x3 = Alien2()"
      ],
      "metadata": {
        "id": "RFgV6Xm-8teX"
      },
      "execution_count": 24,
      "outputs": []
    },
    {
      "cell_type": "code",
      "source": [
        "x3.__dict__"
      ],
      "metadata": {
        "colab": {
          "base_uri": "https://localhost:8080/"
        },
        "id": "NRGYYECD80Rq",
        "outputId": "b6645a39-7bc5-4af1-ba31-bd3902115b53"
      },
      "execution_count": 25,
      "outputs": [
        {
          "output_type": "execute_result",
          "data": {
            "text/plain": [
              "{'x': 0, 'y': 0, 'size': 100, 'direction': 90, 'lives': 5}"
            ]
          },
          "metadata": {},
          "execution_count": 25
        }
      ]
    },
    {
      "cell_type": "code",
      "source": [
        "x4 = Alien2(100, 50, 50, 90, 3)"
      ],
      "metadata": {
        "id": "5EkDKtwN81ve"
      },
      "execution_count": 26,
      "outputs": []
    },
    {
      "cell_type": "code",
      "source": [
        "x4.__dict__"
      ],
      "metadata": {
        "colab": {
          "base_uri": "https://localhost:8080/"
        },
        "id": "Fydjh8Yi878N",
        "outputId": "0def38ff-6bbe-4c66-cc98-2ff2663fbb30"
      },
      "execution_count": 27,
      "outputs": [
        {
          "output_type": "execute_result",
          "data": {
            "text/plain": [
              "{'x': 100, 'y': 50, 'size': 50, 'direction': 90, 'lives': 3}"
            ]
          },
          "metadata": {},
          "execution_count": 27
        }
      ]
    },
    {
      "cell_type": "markdown",
      "source": [
        "## Numpy, MatPlotLib, Pandas"
      ],
      "metadata": {
        "id": "L0Fa4eAmK8kV"
      }
    },
    {
      "cell_type": "markdown",
      "source": [
        "## Numpy, Plotly, Pandas"
      ],
      "metadata": {
        "id": "BMsUCMfPLLbL"
      }
    },
    {
      "cell_type": "markdown",
      "source": [
        "### NumPy\n",
        "\n",
        "科學運算的基礎套件，可以很容易的做向量運算。\n",
        "\n",
        "* ndarray (多維陣列)\n",
        "* ufunc (通用函式)\n",
        "\n"
      ],
      "metadata": {
        "id": "EWnHLmRQMKrR"
      }
    },
    {
      "cell_type": "code",
      "source": [
        "import numpy as np"
      ],
      "metadata": {
        "id": "GyWDZ-m989rC"
      },
      "execution_count": 31,
      "outputs": []
    },
    {
      "cell_type": "code",
      "source": [
        "np.arange(25)"
      ],
      "metadata": {
        "colab": {
          "base_uri": "https://localhost:8080/"
        },
        "id": "XjKDtPH2MlTS",
        "outputId": "582a9726-7201-4e74-acde-c648353f9024"
      },
      "execution_count": 34,
      "outputs": [
        {
          "output_type": "execute_result",
          "data": {
            "text/plain": [
              "array([ 0,  1,  2,  3,  4,  5,  6,  7,  8,  9, 10, 11, 12, 13, 14, 15, 16,\n",
              "       17, 18, 19, 20, 21, 22, 23, 24])"
            ]
          },
          "metadata": {},
          "execution_count": 34
        }
      ]
    },
    {
      "cell_type": "code",
      "source": [
        "np.arange(25).reshape(5, 5)"
      ],
      "metadata": {
        "colab": {
          "base_uri": "https://localhost:8080/"
        },
        "id": "fBPtmcU2MePN",
        "outputId": "d61b92bc-063b-47d0-8e42-e137c6e9963a"
      },
      "execution_count": 33,
      "outputs": [
        {
          "output_type": "execute_result",
          "data": {
            "text/plain": [
              "array([[ 0,  1,  2,  3,  4],\n",
              "       [ 5,  6,  7,  8,  9],\n",
              "       [10, 11, 12, 13, 14],\n",
              "       [15, 16, 17, 18, 19],\n",
              "       [20, 21, 22, 23, 24]])"
            ]
          },
          "metadata": {},
          "execution_count": 33
        }
      ]
    },
    {
      "cell_type": "code",
      "source": [
        "X = np.arange(25).reshape(5, 5)"
      ],
      "metadata": {
        "id": "1rxWXrc-Mggu"
      },
      "execution_count": 35,
      "outputs": []
    },
    {
      "cell_type": "code",
      "source": [
        "X"
      ],
      "metadata": {
        "colab": {
          "base_uri": "https://localhost:8080/"
        },
        "id": "Ei1mEmsuMq6w",
        "outputId": "6f2ecce6-5da7-4fee-fae7-5aebd2209c00"
      },
      "execution_count": 36,
      "outputs": [
        {
          "output_type": "execute_result",
          "data": {
            "text/plain": [
              "array([[ 0,  1,  2,  3,  4],\n",
              "       [ 5,  6,  7,  8,  9],\n",
              "       [10, 11, 12, 13, 14],\n",
              "       [15, 16, 17, 18, 19],\n",
              "       [20, 21, 22, 23, 24]])"
            ]
          },
          "metadata": {},
          "execution_count": 36
        }
      ]
    },
    {
      "cell_type": "markdown",
      "source": [
        "### indexing"
      ],
      "metadata": {
        "id": "T7TDYxD5M-Zk"
      }
    },
    {
      "cell_type": "code",
      "source": [
        "X[2, 2]"
      ],
      "metadata": {
        "colab": {
          "base_uri": "https://localhost:8080/"
        },
        "id": "7mhvqqn0Mrty",
        "outputId": "3a16a004-eebf-4df6-801c-2fd33fc62a95"
      },
      "execution_count": 37,
      "outputs": [
        {
          "output_type": "execute_result",
          "data": {
            "text/plain": [
              "12"
            ]
          },
          "metadata": {},
          "execution_count": 37
        }
      ]
    },
    {
      "cell_type": "markdown",
      "source": [
        "### Fancy Indexing"
      ],
      "metadata": {
        "id": "hXNZMRv0NMYC"
      }
    },
    {
      "cell_type": "code",
      "source": [
        "X[[1,2,3],[0, 1, 2]]"
      ],
      "metadata": {
        "colab": {
          "base_uri": "https://localhost:8080/"
        },
        "id": "19GMdJPPNDzS",
        "outputId": "e8ac22fb-e41c-4c7d-e44f-be04b36fc61d"
      },
      "execution_count": 38,
      "outputs": [
        {
          "output_type": "execute_result",
          "data": {
            "text/plain": [
              "array([ 5, 11, 17])"
            ]
          },
          "metadata": {},
          "execution_count": 38
        }
      ]
    },
    {
      "cell_type": "markdown",
      "source": [
        "### Boolean Indexing"
      ],
      "metadata": {
        "id": "4i76TkIuN7pk"
      }
    },
    {
      "cell_type": "code",
      "source": [
        "X > 10"
      ],
      "metadata": {
        "colab": {
          "base_uri": "https://localhost:8080/"
        },
        "id": "h4dSeYqyNfSX",
        "outputId": "513dc318-e50b-4649-d941-6fa516766ba1"
      },
      "execution_count": 39,
      "outputs": [
        {
          "output_type": "execute_result",
          "data": {
            "text/plain": [
              "array([[False, False, False, False, False],\n",
              "       [False, False, False, False, False],\n",
              "       [False,  True,  True,  True,  True],\n",
              "       [ True,  True,  True,  True,  True],\n",
              "       [ True,  True,  True,  True,  True]])"
            ]
          },
          "metadata": {},
          "execution_count": 39
        }
      ]
    },
    {
      "cell_type": "code",
      "source": [
        "np.where(X>10, X, 0)"
      ],
      "metadata": {
        "colab": {
          "base_uri": "https://localhost:8080/"
        },
        "id": "4qG7WSQDOA7F",
        "outputId": "c713669c-de9a-43e4-b416-c6bc34ec9df1"
      },
      "execution_count": 40,
      "outputs": [
        {
          "output_type": "execute_result",
          "data": {
            "text/plain": [
              "array([[ 0,  0,  0,  0,  0],\n",
              "       [ 0,  0,  0,  0,  0],\n",
              "       [ 0, 11, 12, 13, 14],\n",
              "       [15, 16, 17, 18, 19],\n",
              "       [20, 21, 22, 23, 24]])"
            ]
          },
          "metadata": {},
          "execution_count": 40
        }
      ]
    },
    {
      "cell_type": "markdown",
      "source": [
        "### 練習\n",
        "\n",
        "請計算下列ndarray的數值開根號再乘以10之後，有多少人及格。"
      ],
      "metadata": {
        "id": "3ywE1CO_PBbG"
      }
    },
    {
      "cell_type": "code",
      "source": [
        "G = np.random.randint(10, 50, 10)"
      ],
      "metadata": {
        "id": "Uq7s35SuPMec"
      },
      "execution_count": 41,
      "outputs": []
    },
    {
      "cell_type": "code",
      "source": [
        "G"
      ],
      "metadata": {
        "colab": {
          "base_uri": "https://localhost:8080/"
        },
        "id": "xhciI4kuPbAn",
        "outputId": "228fdff7-bf22-4dc9-9fd1-a75cc71be38f"
      },
      "execution_count": 42,
      "outputs": [
        {
          "output_type": "execute_result",
          "data": {
            "text/plain": [
              "array([41, 37, 24, 43, 35, 28, 48, 17, 20, 15])"
            ]
          },
          "metadata": {},
          "execution_count": 42
        }
      ]
    },
    {
      "cell_type": "code",
      "source": [
        "np.sqrt(G)"
      ],
      "metadata": {
        "colab": {
          "base_uri": "https://localhost:8080/"
        },
        "id": "uDd8TF3wPcO9",
        "outputId": "df7dd411-9952-4ff0-8e1a-0d6059ab2ede"
      },
      "execution_count": 43,
      "outputs": [
        {
          "output_type": "execute_result",
          "data": {
            "text/plain": [
              "array([6.40312424, 6.08276253, 4.89897949, 6.55743852, 5.91607978,\n",
              "       5.29150262, 6.92820323, 4.12310563, 4.47213595, 3.87298335])"
            ]
          },
          "metadata": {},
          "execution_count": 43
        }
      ]
    },
    {
      "cell_type": "code",
      "source": [
        "np.sqrt(G)*10"
      ],
      "metadata": {
        "colab": {
          "base_uri": "https://localhost:8080/"
        },
        "id": "VxkVsTkdQQLB",
        "outputId": "d5a8d46b-60e9-44ea-852a-98ca2a628881"
      },
      "execution_count": 44,
      "outputs": [
        {
          "output_type": "execute_result",
          "data": {
            "text/plain": [
              "array([64.03124237, 60.8276253 , 48.98979486, 65.57438524, 59.16079783,\n",
              "       52.91502622, 69.2820323 , 41.23105626, 44.72135955, 38.72983346])"
            ]
          },
          "metadata": {},
          "execution_count": 44
        }
      ]
    },
    {
      "cell_type": "code",
      "source": [
        "np.sqrt(G)*10 >= 60"
      ],
      "metadata": {
        "colab": {
          "base_uri": "https://localhost:8080/"
        },
        "id": "b0OKAY4KQXTi",
        "outputId": "0282e640-51f1-4c5f-c2b2-765b76530553"
      },
      "execution_count": 45,
      "outputs": [
        {
          "output_type": "execute_result",
          "data": {
            "text/plain": [
              "array([ True,  True, False,  True, False, False,  True, False, False,\n",
              "       False])"
            ]
          },
          "metadata": {},
          "execution_count": 45
        }
      ]
    },
    {
      "cell_type": "code",
      "source": [
        "(np.sqrt(G)*10 >= 60).sum()"
      ],
      "metadata": {
        "colab": {
          "base_uri": "https://localhost:8080/"
        },
        "id": "F5a2vXRvQcCT",
        "outputId": "22426cd2-380d-4518-a76d-16f8b335ecc6"
      },
      "execution_count": 46,
      "outputs": [
        {
          "output_type": "execute_result",
          "data": {
            "text/plain": [
              "4"
            ]
          },
          "metadata": {},
          "execution_count": 46
        }
      ]
    },
    {
      "cell_type": "markdown",
      "source": [
        "### ndarray的常用屬性"
      ],
      "metadata": {
        "id": "7CymLvWJf1ZQ"
      }
    },
    {
      "cell_type": "code",
      "source": [
        "G"
      ],
      "metadata": {
        "colab": {
          "base_uri": "https://localhost:8080/"
        },
        "id": "HeUA8c75f40p",
        "outputId": "ae4de42d-1f5b-472b-d541-6c01ccdde8c8"
      },
      "execution_count": 47,
      "outputs": [
        {
          "output_type": "execute_result",
          "data": {
            "text/plain": [
              "array([41, 37, 24, 43, 35, 28, 48, 17, 20, 15])"
            ]
          },
          "metadata": {},
          "execution_count": 47
        }
      ]
    },
    {
      "cell_type": "code",
      "source": [
        "G.dtype"
      ],
      "metadata": {
        "colab": {
          "base_uri": "https://localhost:8080/"
        },
        "id": "n51stPR-f6n8",
        "outputId": "ff686aaf-446b-4615-8626-9301d6daa21c"
      },
      "execution_count": 48,
      "outputs": [
        {
          "output_type": "execute_result",
          "data": {
            "text/plain": [
              "dtype('int64')"
            ]
          },
          "metadata": {},
          "execution_count": 48
        }
      ]
    },
    {
      "cell_type": "code",
      "source": [
        "G.shape"
      ],
      "metadata": {
        "colab": {
          "base_uri": "https://localhost:8080/"
        },
        "id": "aKaGBBcXgHKT",
        "outputId": "d7b357ec-2790-4c60-9b4f-34ebda4cd7b7"
      },
      "execution_count": 49,
      "outputs": [
        {
          "output_type": "execute_result",
          "data": {
            "text/plain": [
              "(10,)"
            ]
          },
          "metadata": {},
          "execution_count": 49
        }
      ]
    },
    {
      "cell_type": "code",
      "source": [
        "G.size"
      ],
      "metadata": {
        "colab": {
          "base_uri": "https://localhost:8080/"
        },
        "id": "fE3IXZdugNIH",
        "outputId": "85dcc5ad-b193-4600-88e7-da7d7ec5ca91"
      },
      "execution_count": 50,
      "outputs": [
        {
          "output_type": "execute_result",
          "data": {
            "text/plain": [
              "10"
            ]
          },
          "metadata": {},
          "execution_count": 50
        }
      ]
    },
    {
      "cell_type": "markdown",
      "source": [
        "### Pandas\n",
        "\n",
        "* Series\n",
        "* DataFrame"
      ],
      "metadata": {
        "id": "Og2DZhp5OhBY"
      }
    },
    {
      "cell_type": "code",
      "source": [
        "import pandas as pd"
      ],
      "metadata": {
        "id": "gD-XPYjbgs4T"
      },
      "execution_count": 52,
      "outputs": []
    },
    {
      "cell_type": "code",
      "source": [
        "G"
      ],
      "metadata": {
        "colab": {
          "base_uri": "https://localhost:8080/"
        },
        "id": "qQ8rfItJOLbr",
        "outputId": "0abe7fea-3fc8-44c8-9b84-4497282fcb47"
      },
      "execution_count": 51,
      "outputs": [
        {
          "output_type": "execute_result",
          "data": {
            "text/plain": [
              "array([41, 37, 24, 43, 35, 28, 48, 17, 20, 15])"
            ]
          },
          "metadata": {},
          "execution_count": 51
        }
      ]
    },
    {
      "cell_type": "code",
      "source": [
        "s = pd.Series(G)"
      ],
      "metadata": {
        "id": "KkRrUZnXgjzj"
      },
      "execution_count": 53,
      "outputs": []
    },
    {
      "cell_type": "code",
      "source": [
        "s"
      ],
      "metadata": {
        "colab": {
          "base_uri": "https://localhost:8080/"
        },
        "id": "BG12zAeSg53v",
        "outputId": "43946d9c-8c57-4eb3-fc0e-ff0d76d17b7a"
      },
      "execution_count": 54,
      "outputs": [
        {
          "output_type": "execute_result",
          "data": {
            "text/plain": [
              "0    41\n",
              "1    37\n",
              "2    24\n",
              "3    43\n",
              "4    35\n",
              "5    28\n",
              "6    48\n",
              "7    17\n",
              "8    20\n",
              "9    15\n",
              "dtype: int64"
            ]
          },
          "metadata": {},
          "execution_count": 54
        }
      ]
    },
    {
      "cell_type": "code",
      "source": [
        "(np.sqrt(s)*10>=60).sum()"
      ],
      "metadata": {
        "colab": {
          "base_uri": "https://localhost:8080/"
        },
        "id": "ov4VFiPFg7SC",
        "outputId": "3779741b-9fca-48b9-bc46-a3286aa1c765"
      },
      "execution_count": 58,
      "outputs": [
        {
          "output_type": "execute_result",
          "data": {
            "text/plain": [
              "4"
            ]
          },
          "metadata": {},
          "execution_count": 58
        }
      ]
    },
    {
      "cell_type": "code",
      "source": [
        "s.values"
      ],
      "metadata": {
        "colab": {
          "base_uri": "https://localhost:8080/"
        },
        "id": "I0i-1YSQhJ3E",
        "outputId": "3e1551a9-701d-40be-a100-f2df540548dd"
      },
      "execution_count": 59,
      "outputs": [
        {
          "output_type": "execute_result",
          "data": {
            "text/plain": [
              "array([41, 37, 24, 43, 35, 28, 48, 17, 20, 15])"
            ]
          },
          "metadata": {},
          "execution_count": 59
        }
      ]
    },
    {
      "cell_type": "code",
      "source": [],
      "metadata": {
        "id": "wJ7owXFZhx17"
      },
      "execution_count": null,
      "outputs": []
    }
  ]
}