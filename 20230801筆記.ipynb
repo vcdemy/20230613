{
  "nbformat": 4,
  "nbformat_minor": 0,
  "metadata": {
    "colab": {
      "provenance": [],
      "authorship_tag": "ABX9TyPrgQ3obdQqCkUvqCfBaa/c",
      "include_colab_link": true
    },
    "kernelspec": {
      "name": "python3",
      "display_name": "Python 3"
    },
    "language_info": {
      "name": "python"
    }
  },
  "cells": [
    {
      "cell_type": "markdown",
      "metadata": {
        "id": "view-in-github",
        "colab_type": "text"
      },
      "source": [
        "<a href=\"https://colab.research.google.com/github/vcdemy/20230613/blob/main/20230801%E7%AD%86%E8%A8%98.ipynb\" target=\"_parent\"><img src=\"https://colab.research.google.com/assets/colab-badge.svg\" alt=\"Open In Colab\"/></a>"
      ]
    },
    {
      "cell_type": "markdown",
      "source": [
        "# 20230801筆記"
      ],
      "metadata": {
        "id": "2E5a6xzRtz7g"
      }
    },
    {
      "cell_type": "markdown",
      "source": [
        "## Object Oriented Programming, OOP"
      ],
      "metadata": {
        "id": "51CdzjUIt2g8"
      }
    },
    {
      "cell_type": "markdown",
      "source": [
        "函式定義:\n",
        "\n",
        "```python\n",
        "def foo():\n",
        "  print(\"Hello World!\")\n",
        "```\n",
        "\n",
        "函式呼叫:\n",
        "```python\n",
        "foo()\n",
        "```"
      ],
      "metadata": {
        "id": "gD6IMFXtt5F9"
      }
    },
    {
      "cell_type": "markdown",
      "source": [
        "類別定義:\n",
        "\n",
        "```python\n",
        "class Sprite:\n",
        "  pass\n",
        "```\n",
        "\n",
        "產生物件 (Instantiation):\n",
        "```python\n",
        "Sprite()\n",
        "```\n",
        "\n",
        "物件(Object)實際上就是類別(Class)的實例(Instance)。"
      ],
      "metadata": {
        "id": "Y28XITqEuPl0"
      }
    },
    {
      "cell_type": "code",
      "execution_count": 1,
      "metadata": {
        "id": "be_49dmTtug_"
      },
      "outputs": [],
      "source": [
        "class Sprite:\n",
        "  pass"
      ]
    },
    {
      "cell_type": "code",
      "source": [
        "x = Sprite()"
      ],
      "metadata": {
        "id": "naRp193WwoAa"
      },
      "execution_count": 2,
      "outputs": []
    },
    {
      "cell_type": "code",
      "source": [
        "type(x)"
      ],
      "metadata": {
        "colab": {
          "base_uri": "https://localhost:8080/"
        },
        "id": "UrIp80gFwydt",
        "outputId": "3119967d-c3c3-498c-bbf8-646f8c107e44"
      },
      "execution_count": 3,
      "outputs": [
        {
          "output_type": "execute_result",
          "data": {
            "text/plain": [
              "__main__.Sprite"
            ]
          },
          "metadata": {},
          "execution_count": 3
        }
      ]
    },
    {
      "cell_type": "code",
      "source": [
        "x"
      ],
      "metadata": {
        "colab": {
          "base_uri": "https://localhost:8080/"
        },
        "id": "YkEZA_3Aw3Q1",
        "outputId": "64a20978-7e90-445f-c817-d1990a9e2f8b"
      },
      "execution_count": 4,
      "outputs": [
        {
          "output_type": "execute_result",
          "data": {
            "text/plain": [
              "<__main__.Sprite at 0x7d16e25139a0>"
            ]
          },
          "metadata": {},
          "execution_count": 4
        }
      ]
    },
    {
      "cell_type": "code",
      "source": [
        "hex(id(x))"
      ],
      "metadata": {
        "colab": {
          "base_uri": "https://localhost:8080/",
          "height": 35
        },
        "id": "TOl1Dnctw7IJ",
        "outputId": "685a1a4e-f6e6-4e1d-f646-4ad98dedfa6c"
      },
      "execution_count": 5,
      "outputs": [
        {
          "output_type": "execute_result",
          "data": {
            "text/plain": [
              "'0x7d16e25139a0'"
            ],
            "application/vnd.google.colaboratory.intrinsic+json": {
              "type": "string"
            }
          },
          "metadata": {},
          "execution_count": 5
        }
      ]
    },
    {
      "cell_type": "code",
      "source": [
        "x.x = 100\n",
        "x.y = -100\n",
        "x.size = 100\n",
        "x.direction = 90"
      ],
      "metadata": {
        "id": "-JB5xvFyxICc"
      },
      "execution_count": 6,
      "outputs": []
    },
    {
      "cell_type": "code",
      "source": [
        "x.__dict__"
      ],
      "metadata": {
        "colab": {
          "base_uri": "https://localhost:8080/"
        },
        "id": "MupW1MXIxmay",
        "outputId": "0a83867f-b49b-4004-e947-c950c177da1b"
      },
      "execution_count": 7,
      "outputs": [
        {
          "output_type": "execute_result",
          "data": {
            "text/plain": [
              "{'x': 100, 'y': -100, 'size': 100, 'direction': 90}"
            ]
          },
          "metadata": {},
          "execution_count": 7
        }
      ]
    },
    {
      "cell_type": "code",
      "source": [
        "y = Sprite()"
      ],
      "metadata": {
        "id": "6mR4AQglx4M5"
      },
      "execution_count": 8,
      "outputs": []
    },
    {
      "cell_type": "code",
      "source": [
        "y.__dict__"
      ],
      "metadata": {
        "colab": {
          "base_uri": "https://localhost:8080/"
        },
        "id": "kF9t02cnyBZ7",
        "outputId": "de88f32f-2d3b-41de-f679-c8137d500307"
      },
      "execution_count": 9,
      "outputs": [
        {
          "output_type": "execute_result",
          "data": {
            "text/plain": [
              "{}"
            ]
          },
          "metadata": {},
          "execution_count": 9
        }
      ]
    },
    {
      "cell_type": "code",
      "source": [
        "class Sprite:\n",
        "  def __init__(self, x=0, y=0, size=100, direction=90):\n",
        "    self.x = x\n",
        "    self.y = y\n",
        "    self.size = size\n",
        "    self.direction = direction\n",
        "  def move_x(self, x=10):\n",
        "    self.x += x"
      ],
      "metadata": {
        "id": "z-N3Z4uTyC6R"
      },
      "execution_count": 10,
      "outputs": []
    },
    {
      "cell_type": "code",
      "source": [],
      "metadata": {
        "id": "-ld-PPMLytl-"
      },
      "execution_count": null,
      "outputs": []
    }
  ]
}