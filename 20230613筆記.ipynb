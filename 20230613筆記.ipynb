{
  "nbformat": 4,
  "nbformat_minor": 0,
  "metadata": {
    "colab": {
      "provenance": [],
      "authorship_tag": "ABX9TyPJow2wjNA9EKLx37N5sVki",
      "include_colab_link": true
    },
    "kernelspec": {
      "name": "python3",
      "display_name": "Python 3"
    },
    "language_info": {
      "name": "python"
    }
  },
  "cells": [
    {
      "cell_type": "markdown",
      "metadata": {
        "id": "view-in-github",
        "colab_type": "text"
      },
      "source": [
        "<a href=\"https://colab.research.google.com/github/vcdemy/20230613/blob/main/20230613%E7%AD%86%E8%A8%98.ipynb\" target=\"_parent\"><img src=\"https://colab.research.google.com/assets/colab-badge.svg\" alt=\"Open In Colab\"/></a>"
      ]
    },
    {
      "cell_type": "markdown",
      "source": [
        "# 20230613 筆記"
      ],
      "metadata": {
        "id": "hfOuWERvUH5G"
      }
    },
    {
      "cell_type": "markdown",
      "source": [
        "## 練習 (ZJ 005)\n",
        "\n",
        "https://zerojudge.tw/ShowProblem?problemid=a005"
      ],
      "metadata": {
        "id": "B3YQjjolVruz"
      }
    },
    {
      "cell_type": "code",
      "execution_count": 1,
      "metadata": {
        "colab": {
          "base_uri": "https://localhost:8080/"
        },
        "id": "9LixKtV7UECM",
        "outputId": "f4d0aca5-f440-4007-c3b8-58cd64c4c648"
      },
      "outputs": [
        {
          "name": "stdout",
          "output_type": "stream",
          "text": [
            "3\n"
          ]
        }
      ],
      "source": [
        "x = input()"
      ]
    },
    {
      "cell_type": "code",
      "source": [
        "x"
      ],
      "metadata": {
        "colab": {
          "base_uri": "https://localhost:8080/",
          "height": 35
        },
        "id": "HWge6fnkVhRE",
        "outputId": "6db876a9-5bc9-4278-84c2-eea67618e1fc"
      },
      "execution_count": 2,
      "outputs": [
        {
          "output_type": "execute_result",
          "data": {
            "text/plain": [
              "'3'"
            ],
            "application/vnd.google.colaboratory.intrinsic+json": {
              "type": "string"
            }
          },
          "metadata": {},
          "execution_count": 2
        }
      ]
    },
    {
      "cell_type": "code",
      "source": [
        "x = int(input())"
      ],
      "metadata": {
        "colab": {
          "base_uri": "https://localhost:8080/"
        },
        "id": "40R8wzYXVmB7",
        "outputId": "ed1d09d6-bdac-4793-dc28-c2e42a247827"
      },
      "execution_count": 3,
      "outputs": [
        {
          "name": "stdout",
          "output_type": "stream",
          "text": [
            "3\n"
          ]
        }
      ]
    },
    {
      "cell_type": "code",
      "source": [
        "x"
      ],
      "metadata": {
        "colab": {
          "base_uri": "https://localhost:8080/"
        },
        "id": "Jo8aPwWVV6Jf",
        "outputId": "a844076a-7bee-4b98-d404-2a88e2361604"
      },
      "execution_count": 4,
      "outputs": [
        {
          "output_type": "execute_result",
          "data": {
            "text/plain": [
              "3"
            ]
          },
          "metadata": {},
          "execution_count": 4
        }
      ]
    },
    {
      "cell_type": "code",
      "source": [
        "x = int(input())\n",
        "for i in range(x):\n",
        "  y = input()\n",
        "  print(y)"
      ],
      "metadata": {
        "colab": {
          "base_uri": "https://localhost:8080/"
        },
        "id": "tYKeLodPV7rj",
        "outputId": "3329a84f-f3e0-4169-c6d1-6f8f2651dddb"
      },
      "execution_count": 5,
      "outputs": [
        {
          "output_type": "stream",
          "name": "stdout",
          "text": [
            "2\n",
            "1 2 3 4\n",
            "1 2 3 4\n",
            "1 2 3 4 5\n",
            "1 2 3 4 5\n"
          ]
        }
      ]
    },
    {
      "cell_type": "code",
      "source": [
        "x = int(input())\n",
        "for i in range(x):\n",
        "  y = input().split()\n",
        "  print(y)"
      ],
      "metadata": {
        "colab": {
          "base_uri": "https://localhost:8080/"
        },
        "id": "by4KtXy3WORU",
        "outputId": "d0f222ec-5a3d-45a0-cea0-41935ce90cdb"
      },
      "execution_count": 6,
      "outputs": [
        {
          "output_type": "stream",
          "name": "stdout",
          "text": [
            "2\n",
            "1 2 3 4\n",
            "['1', '2', '3', '4']\n",
            "1 2 3 4 5\n",
            "['1', '2', '3', '4', '5']\n"
          ]
        }
      ]
    },
    {
      "cell_type": "code",
      "source": [
        "x = int(input())\n",
        "for i in range(x):\n",
        "  y = input()\n",
        "  z = y.split()\n",
        "  if (int(z[1])-int(z[0]))==(int(z[2])-int(z[1])):\n",
        "    print(y + \" \" + str(int(z[3]) + int(z[1]) - int(z[0])))"
      ],
      "metadata": {
        "colab": {
          "base_uri": "https://localhost:8080/"
        },
        "id": "5t8EnIBcW1GC",
        "outputId": "f050643c-b4ff-454b-bbb1-83853548dd46"
      },
      "execution_count": 10,
      "outputs": [
        {
          "output_type": "stream",
          "name": "stdout",
          "text": [
            "1\n",
            "1 2 3 4\n",
            "1 2 3 4 5\n"
          ]
        }
      ]
    },
    {
      "cell_type": "code",
      "source": [
        "x = int(input())\n",
        "for i in range(x):\n",
        "  y = input()\n",
        "  z = y.split()\n",
        "  if (int(z[1])-int(z[0]))==(int(z[2])-int(z[1])):\n",
        "    print(y + \" \" + str(int(z[3]) + int(z[1]) - int(z[0])))\n",
        "  else:\n",
        "    print(y + \" \" + str(int(z[3])*((int(z[1])//int(z[0])))))"
      ],
      "metadata": {
        "colab": {
          "base_uri": "https://localhost:8080/"
        },
        "id": "iDJQwas1YJyl",
        "outputId": "942a152a-f0fd-4e5b-c3f7-9315df20ce68"
      },
      "execution_count": 11,
      "outputs": [
        {
          "output_type": "stream",
          "name": "stdout",
          "text": [
            "2\n",
            "1 2 3 4\n",
            "1 2 3 4 5\n",
            "1 2 4 8\n",
            "1 2 4 8 16\n"
          ]
        }
      ]
    },
    {
      "cell_type": "code",
      "source": [
        "x = int(input())\n",
        "for i in range(x):\n",
        "  y = input()\n",
        "  z = list(map(int, y.split()))\n",
        "  if (z[1]-z[0])==(z[2]-z[1]):\n",
        "    print(y + \" \" + str(z[3] + z[1] - z[0]))\n",
        "  else:\n",
        "    print(y + \" \" + str(z[3]*(z[1]//z[0])))"
      ],
      "metadata": {
        "colab": {
          "base_uri": "https://localhost:8080/"
        },
        "id": "p8W4tiSaZ3sK",
        "outputId": "654ddac6-8925-45ae-dfe7-e01cb3e58e67"
      },
      "execution_count": 12,
      "outputs": [
        {
          "output_type": "stream",
          "name": "stdout",
          "text": [
            "2\n",
            "1 2 3 4\n",
            "1 2 3 4 5\n",
            "1 2 4 8\n",
            "1 2 4 8 16\n"
          ]
        }
      ]
    },
    {
      "cell_type": "code",
      "source": [
        "!pip list"
      ],
      "metadata": {
        "id": "aIdsEVjObuZM"
      },
      "execution_count": null,
      "outputs": []
    },
    {
      "cell_type": "markdown",
      "source": [
        "## 練習 (ZJ 004)\n",
        "\n",
        "https://zerojudge.tw/ShowProblem?problemid=a004"
      ],
      "metadata": {
        "id": "D_0c9JqQc5lc"
      }
    },
    {
      "cell_type": "code",
      "source": [
        "while True:\n",
        "  x = input()\n",
        "  if x:\n",
        "    print(\"平年\")\n",
        "  else:\n",
        "    break"
      ],
      "metadata": {
        "colab": {
          "base_uri": "https://localhost:8080/"
        },
        "id": "twuNiwSSciGH",
        "outputId": "bec135e9-7b76-49fb-8a04-08cd08fb9e84"
      },
      "execution_count": 14,
      "outputs": [
        {
          "name": "stdout",
          "output_type": "stream",
          "text": [
            "1918\n",
            "平年\n",
            "\n"
          ]
        }
      ]
    },
    {
      "cell_type": "code",
      "source": [
        "# 底下的作法在ZeroJudge上面會遇到EOFError的錯誤！\n",
        "# 需要使用例外處理的方式來處理EOF的狀況!\n",
        "while True:\n",
        "  x = input()\n",
        "  if x:\n",
        "    if int(x) % 400 == 0:\n",
        "      print(\"閏年\")\n",
        "    elif (int(x) % 4 ==0) and (int(x) % 100 != 0):\n",
        "      print(\"閏年\")\n",
        "    else:\n",
        "      print(\"平年\")\n",
        "  else:\n",
        "    break"
      ],
      "metadata": {
        "colab": {
          "base_uri": "https://localhost:8080/"
        },
        "id": "IY9tTPDpdvCx",
        "outputId": "11b5128e-ea03-4761-c52a-1e2f3e303072"
      },
      "execution_count": 15,
      "outputs": [
        {
          "name": "stdout",
          "output_type": "stream",
          "text": [
            "1977\n",
            "平年\n",
            "1980\n",
            "閏年\n",
            "2000\n",
            "閏年\n",
            "2100\n",
            "平年\n",
            "\n"
          ]
        }
      ]
    },
    {
      "cell_type": "code",
      "source": [
        "# 使用例外處理取捕捉 EOF Error 的狀況，在產生錯誤的時候，就使用break跳出迴圈。\n",
        "while True:\n",
        "  try:\n",
        "    x = input()\n",
        "    if int(x) % 400 == 0:\n",
        "      print(\"閏年\")\n",
        "    elif (int(x) % 4 ==0) and (int(x) % 100 != 0):\n",
        "      print(\"閏年\")\n",
        "    else:\n",
        "      print(\"平年\")\n",
        "  except Exception as e:\n",
        "    break"
      ],
      "metadata": {
        "id": "V4kpdX31etIO"
      },
      "execution_count": null,
      "outputs": []
    },
    {
      "cell_type": "markdown",
      "source": [
        "## for迴圈 v.s., while迴圈\n",
        "\n",
        "包含 break 跟 continue 的用法！"
      ],
      "metadata": {
        "id": "_eB8PjDTjbxC"
      }
    },
    {
      "cell_type": "markdown",
      "source": [
        "### for迴圈"
      ],
      "metadata": {
        "id": "IWsTT_JAjz7M"
      }
    },
    {
      "cell_type": "code",
      "source": [
        "for i in range(5):\n",
        "  print(i)"
      ],
      "metadata": {
        "colab": {
          "base_uri": "https://localhost:8080/"
        },
        "id": "5HurVwnajgD0",
        "outputId": "3aeed420-32a6-4131-b026-bf345ada6023"
      },
      "execution_count": 16,
      "outputs": [
        {
          "output_type": "stream",
          "name": "stdout",
          "text": [
            "0\n",
            "1\n",
            "2\n",
            "3\n",
            "4\n"
          ]
        }
      ]
    },
    {
      "cell_type": "code",
      "source": [
        "# 列出單數(odd number)\n",
        "for i in range(10):\n",
        "  if i % 2 == 1:\n",
        "    print(i)"
      ],
      "metadata": {
        "id": "dIiA4mt8j3px"
      },
      "execution_count": null,
      "outputs": []
    },
    {
      "cell_type": "code",
      "source": [
        "# 列出單數(odd number)\n",
        "for i in range(10):\n",
        "  if i % 2 == 0:\n",
        "    continue\n",
        "  print(i)"
      ],
      "metadata": {
        "colab": {
          "base_uri": "https://localhost:8080/"
        },
        "id": "op-ZqJvekNSQ",
        "outputId": "2be8bcd5-aafd-480b-f90c-b43b3da61579"
      },
      "execution_count": 18,
      "outputs": [
        {
          "output_type": "stream",
          "name": "stdout",
          "text": [
            "1\n",
            "3\n",
            "5\n",
            "7\n",
            "9\n"
          ]
        }
      ]
    },
    {
      "cell_type": "code",
      "source": [
        "# 直接跳過i==5的狀況\n",
        "for i in range(10):\n",
        "  if i == 5:\n",
        "    continue\n",
        "  print(i)"
      ],
      "metadata": {
        "id": "w1gCgtQtkaIk"
      },
      "execution_count": null,
      "outputs": []
    },
    {
      "cell_type": "code",
      "source": [
        "for i in range(10):\n",
        "  if i == 5:\n",
        "    break\n",
        "  print(i)"
      ],
      "metadata": {
        "colab": {
          "base_uri": "https://localhost:8080/"
        },
        "id": "pmMaYGqClZNX",
        "outputId": "d954fc91-2849-4f96-f44d-966e090ff2b1"
      },
      "execution_count": 24,
      "outputs": [
        {
          "output_type": "stream",
          "name": "stdout",
          "text": [
            "0\n",
            "1\n",
            "2\n",
            "3\n",
            "4\n"
          ]
        }
      ]
    },
    {
      "cell_type": "markdown",
      "source": [
        "### while迴圈\n",
        "\n",
        "```python\n",
        "while 條件式:\n",
        "  程式區塊\n",
        "```"
      ],
      "metadata": {
        "id": "a4H5_qs-m9wc"
      }
    },
    {
      "cell_type": "code",
      "source": [
        "n = 0\n",
        "while n < 10:\n",
        "  print(n)\n",
        "  n = n + 1"
      ],
      "metadata": {
        "colab": {
          "base_uri": "https://localhost:8080/"
        },
        "id": "eSrfrsTjmTiQ",
        "outputId": "7114b9fe-c706-4983-b650-7a9207bf2f66"
      },
      "execution_count": 25,
      "outputs": [
        {
          "output_type": "stream",
          "name": "stdout",
          "text": [
            "0\n",
            "1\n",
            "2\n",
            "3\n",
            "4\n",
            "5\n",
            "6\n",
            "7\n",
            "8\n",
            "9\n"
          ]
        }
      ]
    },
    {
      "cell_type": "code",
      "source": [
        "def foo(n):\n",
        "  return n**2 < 100"
      ],
      "metadata": {
        "id": "qHv3O8eYnJqp"
      },
      "execution_count": 26,
      "outputs": []
    },
    {
      "cell_type": "code",
      "source": [
        "n = 0\n",
        "while foo(n):\n",
        "  print(n)\n",
        "  n = n + 1"
      ],
      "metadata": {
        "colab": {
          "base_uri": "https://localhost:8080/"
        },
        "id": "J1_iEFG6n5vA",
        "outputId": "dc696d44-5510-4a6d-f5a5-3311a82e41d1"
      },
      "execution_count": 27,
      "outputs": [
        {
          "output_type": "stream",
          "name": "stdout",
          "text": [
            "0\n",
            "1\n",
            "2\n",
            "3\n",
            "4\n",
            "5\n",
            "6\n",
            "7\n",
            "8\n",
            "9\n"
          ]
        }
      ]
    },
    {
      "cell_type": "markdown",
      "source": [
        "## 練習 (ZJ 009)\n",
        "\n",
        "https://zerojudge.tw/ShowProblem?problemid=a009\n",
        "\n",
        "參考：https://www.geeksforgeeks.org/caesar-cipher-in-cryptography/"
      ],
      "metadata": {
        "id": "VO7prRJfuEVh"
      }
    },
    {
      "cell_type": "code",
      "source": [
        "# 返回字串'a'的ASCII Code數值\n",
        "ord('a')"
      ],
      "metadata": {
        "id": "QjdeAPjcoAO-"
      },
      "execution_count": null,
      "outputs": []
    },
    {
      "cell_type": "code",
      "source": [
        "# 返回數值97的ASCII Code字元(Charactor)\n",
        "chr(97)"
      ],
      "metadata": {
        "id": "2jN35NKwuLrb"
      },
      "execution_count": null,
      "outputs": []
    },
    {
      "cell_type": "code",
      "source": [
        "for i in 'abc':\n",
        "  print(i)"
      ],
      "metadata": {
        "id": "p2wggtSLuPNe"
      },
      "execution_count": null,
      "outputs": []
    },
    {
      "cell_type": "code",
      "source": [
        "for i in 'abc':\n",
        "  print(ord(i))"
      ],
      "metadata": {
        "id": "JMKXZIBPuVXd"
      },
      "execution_count": null,
      "outputs": []
    },
    {
      "cell_type": "code",
      "source": [
        "for i in 'abc':\n",
        "  print(chr(ord(i)+2))"
      ],
      "metadata": {
        "id": "Imd4lT4JudNu"
      },
      "execution_count": null,
      "outputs": []
    },
    {
      "cell_type": "code",
      "source": [
        "# 設定print的時候不要換行\n",
        "for i in 'abc':\n",
        "  print(chr(ord(i)+2), end=\"\")"
      ],
      "metadata": {
        "colab": {
          "base_uri": "https://localhost:8080/"
        },
        "id": "ZGDRYeBSu1Ao",
        "outputId": "cee7a20c-a192-4e5a-f17d-1455e1fe3feb"
      },
      "execution_count": 35,
      "outputs": [
        {
          "output_type": "stream",
          "name": "stdout",
          "text": [
            "cde"
          ]
        }
      ]
    },
    {
      "cell_type": "code",
      "source": [
        "K = ord('*') - ord('1')"
      ],
      "metadata": {
        "id": "zixJ0lnivD4L"
      },
      "execution_count": 40,
      "outputs": []
    },
    {
      "cell_type": "code",
      "source": [
        "K"
      ],
      "metadata": {
        "colab": {
          "base_uri": "https://localhost:8080/"
        },
        "id": "vnxGkFeKyEsH",
        "outputId": "732a67d8-3640-4523-a0a8-2068d8ec0129"
      },
      "execution_count": 41,
      "outputs": [
        {
          "output_type": "execute_result",
          "data": {
            "text/plain": [
              "-7"
            ]
          },
          "metadata": {},
          "execution_count": 41
        }
      ]
    },
    {
      "cell_type": "code",
      "source": [
        "chr(ord('1')+K)"
      ],
      "metadata": {
        "colab": {
          "base_uri": "https://localhost:8080/",
          "height": 35
        },
        "id": "DBN2XPiuyFUD",
        "outputId": "a4718691-2e1e-43b3-c1ac-49b1935465c2"
      },
      "execution_count": 42,
      "outputs": [
        {
          "output_type": "execute_result",
          "data": {
            "text/plain": [
              "'*'"
            ],
            "application/vnd.google.colaboratory.intrinsic+json": {
              "type": "string"
            }
          },
          "metadata": {},
          "execution_count": 42
        }
      ]
    },
    {
      "cell_type": "code",
      "source": [
        "# 提示\n",
        "x = input()\n",
        "for i in x:\n",
        "  print(chr(ord(i)+K))"
      ],
      "metadata": {
        "id": "mIb4lS-SyPAI"
      },
      "execution_count": null,
      "outputs": []
    },
    {
      "cell_type": "code",
      "source": [
        "# 提示\n",
        "K = ord('*') - ord('1')\n",
        "x = input()\n",
        "for i in x:\n",
        "  print(chr(ord(i)+K), end=\"\")"
      ],
      "metadata": {
        "colab": {
          "base_uri": "https://localhost:8080/"
        },
        "id": "Xr-eMWwPynPa",
        "outputId": "22964cde-6128-4546-f7ad-2a2e75516a92"
      },
      "execution_count": 45,
      "outputs": [
        {
          "output_type": "stream",
          "name": "stdout",
          "text": [
            "1JKJ'pz'{ol'{yhklthyr'vm'{ol'Jvu{yvs'Kh{h'Jvywvyh{pvu5\n",
            "*CDC is the trademark of the Control Data Corporation."
          ]
        }
      ]
    },
    {
      "cell_type": "markdown",
      "source": [
        "## str <=> list"
      ],
      "metadata": {
        "id": "D2arz2_20ZnZ"
      }
    },
    {
      "cell_type": "code",
      "source": [
        "s = \"abcde\""
      ],
      "metadata": {
        "id": "KYAoQBpuzxWQ"
      },
      "execution_count": 46,
      "outputs": []
    },
    {
      "cell_type": "code",
      "source": [
        "m = list(s)"
      ],
      "metadata": {
        "id": "oyWVHkC50kX-"
      },
      "execution_count": 47,
      "outputs": []
    },
    {
      "cell_type": "code",
      "source": [
        "m"
      ],
      "metadata": {
        "colab": {
          "base_uri": "https://localhost:8080/"
        },
        "id": "OLGpHQaP0sXI",
        "outputId": "fb6ba97b-e087-4e19-bc2f-2171e8da3722"
      },
      "execution_count": 48,
      "outputs": [
        {
          "output_type": "execute_result",
          "data": {
            "text/plain": [
              "['a', 'b', 'c', 'd', 'e']"
            ]
          },
          "metadata": {},
          "execution_count": 48
        }
      ]
    },
    {
      "cell_type": "code",
      "source": [
        "n = \"\"\n",
        "for i in m:\n",
        "  n = n + i"
      ],
      "metadata": {
        "id": "JWwE016T0s_b"
      },
      "execution_count": 49,
      "outputs": []
    },
    {
      "cell_type": "code",
      "source": [
        "n"
      ],
      "metadata": {
        "colab": {
          "base_uri": "https://localhost:8080/",
          "height": 35
        },
        "id": "fh-tI1Av08NS",
        "outputId": "6da54e8d-b6f3-40d8-dd94-46b426aa741a"
      },
      "execution_count": 50,
      "outputs": [
        {
          "output_type": "execute_result",
          "data": {
            "text/plain": [
              "'abcde'"
            ],
            "application/vnd.google.colaboratory.intrinsic+json": {
              "type": "string"
            }
          },
          "metadata": {},
          "execution_count": 50
        }
      ]
    },
    {
      "cell_type": "code",
      "source": [
        "m"
      ],
      "metadata": {
        "colab": {
          "base_uri": "https://localhost:8080/"
        },
        "id": "MFbJInnj1TmA",
        "outputId": "4302dc52-589d-4c86-b786-3b3c5a99c29d"
      },
      "execution_count": 53,
      "outputs": [
        {
          "output_type": "execute_result",
          "data": {
            "text/plain": [
              "['a', 'b', 'c', 'd', 'e']"
            ]
          },
          "metadata": {},
          "execution_count": 53
        }
      ]
    },
    {
      "cell_type": "code",
      "source": [
        "\"\".join(m)"
      ],
      "metadata": {
        "colab": {
          "base_uri": "https://localhost:8080/",
          "height": 35
        },
        "id": "BnLLf1Cp08tP",
        "outputId": "dffbe674-5d22-4098-f3ef-759d04bc8c93"
      },
      "execution_count": 51,
      "outputs": [
        {
          "output_type": "execute_result",
          "data": {
            "text/plain": [
              "'abcde'"
            ],
            "application/vnd.google.colaboratory.intrinsic+json": {
              "type": "string"
            }
          },
          "metadata": {},
          "execution_count": 51
        }
      ]
    },
    {
      "cell_type": "code",
      "source": [
        "\"+\".join(m)"
      ],
      "metadata": {
        "colab": {
          "base_uri": "https://localhost:8080/",
          "height": 35
        },
        "id": "yP6OZnkk1QMY",
        "outputId": "adbbc1b5-355d-4de8-c4af-0140a0154b47"
      },
      "execution_count": 52,
      "outputs": [
        {
          "output_type": "execute_result",
          "data": {
            "text/plain": [
              "'a+b+c+d+e'"
            ],
            "application/vnd.google.colaboratory.intrinsic+json": {
              "type": "string"
            }
          },
          "metadata": {},
          "execution_count": 52
        }
      ]
    },
    {
      "cell_type": "markdown",
      "source": [
        "### reverse a list"
      ],
      "metadata": {
        "id": "v2kk1MIs2C2e"
      }
    },
    {
      "cell_type": "code",
      "source": [
        "m"
      ],
      "metadata": {
        "colab": {
          "base_uri": "https://localhost:8080/"
        },
        "id": "WjYWdu6P2Eh5",
        "outputId": "00b1261e-b4c8-4301-c64b-4aa7c1d5de5e"
      },
      "execution_count": 55,
      "outputs": [
        {
          "output_type": "execute_result",
          "data": {
            "text/plain": [
              "['a', 'b', 'c', 'd', 'e']"
            ]
          },
          "metadata": {},
          "execution_count": 55
        }
      ]
    },
    {
      "cell_type": "code",
      "source": [
        "m.reverse?"
      ],
      "metadata": {
        "id": "ZyqalEDL2FH8"
      },
      "execution_count": 56,
      "outputs": []
    },
    {
      "cell_type": "code",
      "source": [
        "m.reverse()"
      ],
      "metadata": {
        "id": "7liAvv262P7N"
      },
      "execution_count": 57,
      "outputs": []
    },
    {
      "cell_type": "code",
      "source": [
        "m"
      ],
      "metadata": {
        "colab": {
          "base_uri": "https://localhost:8080/"
        },
        "id": "yWvIwCYB2RcW",
        "outputId": "8f54f486-756c-4695-8db6-cc7f87b07846"
      },
      "execution_count": 58,
      "outputs": [
        {
          "output_type": "execute_result",
          "data": {
            "text/plain": [
              "['e', 'd', 'c', 'b', 'a']"
            ]
          },
          "metadata": {},
          "execution_count": 58
        }
      ]
    },
    {
      "cell_type": "markdown",
      "source": [
        "### reverse a string"
      ],
      "metadata": {
        "id": "D7s25XOg15fi"
      }
    },
    {
      "cell_type": "code",
      "source": [
        "s"
      ],
      "metadata": {
        "colab": {
          "base_uri": "https://localhost:8080/",
          "height": 35
        },
        "id": "QAkEYsfs1R6U",
        "outputId": "1834ae2e-34af-4646-c66c-618368bac1c0"
      },
      "execution_count": 54,
      "outputs": [
        {
          "output_type": "execute_result",
          "data": {
            "text/plain": [
              "'abcde'"
            ],
            "application/vnd.google.colaboratory.intrinsic+json": {
              "type": "string"
            }
          },
          "metadata": {},
          "execution_count": 54
        }
      ]
    },
    {
      "cell_type": "code",
      "source": [
        "\"\".join(m)"
      ],
      "metadata": {
        "colab": {
          "base_uri": "https://localhost:8080/",
          "height": 35
        },
        "id": "xE3yvOsT18qz",
        "outputId": "52238e15-6993-4b51-8d8a-03cbfdbcd058"
      },
      "execution_count": 60,
      "outputs": [
        {
          "output_type": "execute_result",
          "data": {
            "text/plain": [
              "'edcba'"
            ],
            "application/vnd.google.colaboratory.intrinsic+json": {
              "type": "string"
            }
          },
          "metadata": {},
          "execution_count": 60
        }
      ]
    },
    {
      "cell_type": "code",
      "source": [
        "s[::-1]"
      ],
      "metadata": {
        "colab": {
          "base_uri": "https://localhost:8080/",
          "height": 35
        },
        "id": "Rs4YEV8Z2nL3",
        "outputId": "e208b627-9474-42d4-dae8-af5fe097efd4"
      },
      "execution_count": 61,
      "outputs": [
        {
          "output_type": "execute_result",
          "data": {
            "text/plain": [
              "'edcba'"
            ],
            "application/vnd.google.colaboratory.intrinsic+json": {
              "type": "string"
            }
          },
          "metadata": {},
          "execution_count": 61
        }
      ]
    },
    {
      "cell_type": "markdown",
      "source": [
        "## 練習 (ZJ 022)\n",
        "\n",
        "https://zerojudge.tw/ShowProblem?problemid=a022"
      ],
      "metadata": {
        "id": "RMX12_7B3INw"
      }
    },
    {
      "cell_type": "code",
      "source": [
        "x = input()\n",
        "if x == x[::-1]:\n",
        "  print(\"yes\")\n",
        "else:\n",
        "  print(\"no\")"
      ],
      "metadata": {
        "colab": {
          "base_uri": "https://localhost:8080/"
        },
        "id": "2ZqEKmno2sqX",
        "outputId": "85e0ea38-d93b-4b37-e1f8-4e147f23fb77"
      },
      "execution_count": 63,
      "outputs": [
        {
          "output_type": "stream",
          "name": "stdout",
          "text": [
            "abcd\n",
            "no\n"
          ]
        }
      ]
    },
    {
      "cell_type": "markdown",
      "source": [
        "## 練習 (ZJ 034)\n",
        "\n",
        "https://zerojudge.tw/ShowProblem?problemid=a034"
      ],
      "metadata": {
        "id": "kaJErfUh5m2L"
      }
    },
    {
      "cell_type": "code",
      "source": [
        "x = int(input())"
      ],
      "metadata": {
        "colab": {
          "base_uri": "https://localhost:8080/"
        },
        "id": "QsVC-IGM4-TX",
        "outputId": "eac3d308-d563-42d5-b4fb-86b575890445"
      },
      "execution_count": 64,
      "outputs": [
        {
          "name": "stdout",
          "output_type": "stream",
          "text": [
            "10\n"
          ]
        }
      ]
    },
    {
      "cell_type": "code",
      "source": [
        "bin(x)"
      ],
      "metadata": {
        "colab": {
          "base_uri": "https://localhost:8080/",
          "height": 35
        },
        "id": "LL-oScmT5zHI",
        "outputId": "330448b2-edfa-4c24-cd7a-774c5305d674"
      },
      "execution_count": 68,
      "outputs": [
        {
          "output_type": "execute_result",
          "data": {
            "text/plain": [
              "'0b1010'"
            ],
            "application/vnd.google.colaboratory.intrinsic+json": {
              "type": "string"
            }
          },
          "metadata": {},
          "execution_count": 68
        }
      ]
    },
    {
      "cell_type": "code",
      "source": [
        "bin(x)[2:]"
      ],
      "metadata": {
        "colab": {
          "base_uri": "https://localhost:8080/",
          "height": 35
        },
        "id": "DR2Vy65m51C4",
        "outputId": "7b300f84-c135-4e45-b6f6-7f71a3060d6f"
      },
      "execution_count": 69,
      "outputs": [
        {
          "output_type": "execute_result",
          "data": {
            "text/plain": [
              "'1010'"
            ],
            "application/vnd.google.colaboratory.intrinsic+json": {
              "type": "string"
            }
          },
          "metadata": {},
          "execution_count": 69
        }
      ]
    },
    {
      "cell_type": "code",
      "source": [
        "print(bin(x)[2:])"
      ],
      "metadata": {
        "colab": {
          "base_uri": "https://localhost:8080/"
        },
        "id": "Sbpd-1Qu5_rr",
        "outputId": "09387eb1-471b-434d-e369-17eede2177cc"
      },
      "execution_count": 71,
      "outputs": [
        {
          "output_type": "stream",
          "name": "stdout",
          "text": [
            "1010\n"
          ]
        }
      ]
    },
    {
      "cell_type": "code",
      "source": [
        "print(f\"{x:b}\")"
      ],
      "metadata": {
        "colab": {
          "base_uri": "https://localhost:8080/"
        },
        "id": "P5eoUi_g6Cel",
        "outputId": "e1cba784-1af0-4af4-81b5-c371c153f500"
      },
      "execution_count": 72,
      "outputs": [
        {
          "output_type": "stream",
          "name": "stdout",
          "text": [
            "1010\n"
          ]
        }
      ]
    },
    {
      "cell_type": "code",
      "source": [
        "x = int(input())\n",
        "print(f\"{x:b}\")"
      ],
      "metadata": {
        "id": "sT1HnUdK6KoQ"
      },
      "execution_count": null,
      "outputs": []
    },
    {
      "cell_type": "code",
      "source": [
        "# 使用例外處理來處理EOFError的狀況\n",
        "while True:\n",
        "  try:\n",
        "    x = int(input())\n",
        "    print(f\"{x:b}\")\n",
        "  except Exception as e:\n",
        "    break"
      ],
      "metadata": {
        "colab": {
          "base_uri": "https://localhost:8080/"
        },
        "id": "uKvm5V_M6kuU",
        "outputId": "801d51b7-9964-4a8a-d9f5-52e789289fdd"
      },
      "execution_count": 73,
      "outputs": [
        {
          "name": "stdout",
          "output_type": "stream",
          "text": [
            "\n"
          ]
        }
      ]
    },
    {
      "cell_type": "markdown",
      "source": [
        "## scikit-learn簡介"
      ],
      "metadata": {
        "id": "eHfg2_17P2Ha"
      }
    },
    {
      "cell_type": "markdown",
      "source": [
        "### 載入iris資料集"
      ],
      "metadata": {
        "id": "cqGbsRdSQLqO"
      }
    },
    {
      "cell_type": "markdown",
      "source": [
        "https://scikit-learn.org/stable/datasets/toy_dataset.html"
      ],
      "metadata": {
        "id": "N7RF5YQiQaiY"
      }
    },
    {
      "cell_type": "code",
      "source": [
        "!pip install scikit-learn"
      ],
      "metadata": {
        "id": "FY8tmgPBQ1tq"
      },
      "execution_count": null,
      "outputs": []
    },
    {
      "cell_type": "code",
      "source": [
        "from sklearn.datasets import load_iris"
      ],
      "metadata": {
        "id": "AxCLpiR362S8"
      },
      "execution_count": 1,
      "outputs": []
    },
    {
      "cell_type": "code",
      "source": [
        "iris = load_iris()"
      ],
      "metadata": {
        "id": "kcC8xfNkQVfR"
      },
      "execution_count": 2,
      "outputs": []
    },
    {
      "cell_type": "code",
      "source": [
        "iris.feature_names"
      ],
      "metadata": {
        "id": "GGjov_N3Qf9y"
      },
      "execution_count": null,
      "outputs": []
    },
    {
      "cell_type": "code",
      "source": [
        "iris.target_names"
      ],
      "metadata": {
        "colab": {
          "base_uri": "https://localhost:8080/"
        },
        "id": "QJUDpyVCQq9y",
        "outputId": "387357ec-7b2a-437e-edee-0c5a75da387a"
      },
      "execution_count": 4,
      "outputs": [
        {
          "output_type": "execute_result",
          "data": {
            "text/plain": [
              "array(['setosa', 'versicolor', 'virginica'], dtype='<U10')"
            ]
          },
          "metadata": {},
          "execution_count": 4
        }
      ]
    },
    {
      "cell_type": "code",
      "source": [
        "X = iris.data\n",
        "y = iris.target"
      ],
      "metadata": {
        "id": "I8m7TQKrQvxy"
      },
      "execution_count": 11,
      "outputs": []
    },
    {
      "cell_type": "code",
      "source": [
        "type(X)"
      ],
      "metadata": {
        "colab": {
          "base_uri": "https://localhost:8080/"
        },
        "id": "rzfDFI30RmbK",
        "outputId": "aa67ca06-1723-4139-8b6e-d699eab4155a"
      },
      "execution_count": 12,
      "outputs": [
        {
          "output_type": "execute_result",
          "data": {
            "text/plain": [
              "numpy.ndarray"
            ]
          },
          "metadata": {},
          "execution_count": 12
        }
      ]
    },
    {
      "cell_type": "code",
      "source": [
        "type(y)"
      ],
      "metadata": {
        "colab": {
          "base_uri": "https://localhost:8080/"
        },
        "id": "mxxcbQdrRs24",
        "outputId": "a885f7ca-37c8-46e5-c9a2-deddf4f702d7"
      },
      "execution_count": 13,
      "outputs": [
        {
          "output_type": "execute_result",
          "data": {
            "text/plain": [
              "numpy.ndarray"
            ]
          },
          "metadata": {},
          "execution_count": 13
        }
      ]
    },
    {
      "cell_type": "code",
      "source": [
        "len(X)"
      ],
      "metadata": {
        "colab": {
          "base_uri": "https://localhost:8080/"
        },
        "id": "rjEj3qGORugy",
        "outputId": "b2437669-f8dd-4a51-dcc5-86d33e96b32e"
      },
      "execution_count": 14,
      "outputs": [
        {
          "output_type": "execute_result",
          "data": {
            "text/plain": [
              "150"
            ]
          },
          "metadata": {},
          "execution_count": 14
        }
      ]
    },
    {
      "cell_type": "code",
      "source": [
        "len(y)"
      ],
      "metadata": {
        "colab": {
          "base_uri": "https://localhost:8080/"
        },
        "id": "p6YN-kpSR4j0",
        "outputId": "7b03dfe4-527d-4a30-d8a8-94aa5f29491f"
      },
      "execution_count": 15,
      "outputs": [
        {
          "output_type": "execute_result",
          "data": {
            "text/plain": [
              "150"
            ]
          },
          "metadata": {},
          "execution_count": 15
        }
      ]
    },
    {
      "cell_type": "code",
      "source": [
        "X[0]"
      ],
      "metadata": {
        "colab": {
          "base_uri": "https://localhost:8080/"
        },
        "id": "pOEtfVjCR6R7",
        "outputId": "5f04e7da-c408-4913-ad36-fc06f2b01590"
      },
      "execution_count": 16,
      "outputs": [
        {
          "output_type": "execute_result",
          "data": {
            "text/plain": [
              "array([5.1, 3.5, 1.4, 0.2])"
            ]
          },
          "metadata": {},
          "execution_count": 16
        }
      ]
    },
    {
      "cell_type": "code",
      "source": [
        "y[0]"
      ],
      "metadata": {
        "colab": {
          "base_uri": "https://localhost:8080/"
        },
        "id": "5HTGX8G9SHxY",
        "outputId": "382fac3e-1c4f-42f2-f5dc-a358608e1111"
      },
      "execution_count": 17,
      "outputs": [
        {
          "output_type": "execute_result",
          "data": {
            "text/plain": [
              "0"
            ]
          },
          "metadata": {},
          "execution_count": 17
        }
      ]
    },
    {
      "cell_type": "markdown",
      "source": [
        "### 產生訓練集跟測試集"
      ],
      "metadata": {
        "id": "k0IpoydFSWlT"
      }
    },
    {
      "cell_type": "code",
      "source": [
        "from sklearn.model_selection import train_test_split"
      ],
      "metadata": {
        "id": "npvRvTelSMsh"
      },
      "execution_count": 18,
      "outputs": []
    },
    {
      "cell_type": "code",
      "source": [
        "X_train, X_test, y_train, y_test = train_test_split(X, y, test_size=0.2, random_state=0)"
      ],
      "metadata": {
        "id": "xkp0pEkESlPj"
      },
      "execution_count": 19,
      "outputs": []
    },
    {
      "cell_type": "markdown",
      "source": [
        "### 使用SVM來做分類"
      ],
      "metadata": {
        "id": "4VGAeczYTAF0"
      }
    },
    {
      "cell_type": "code",
      "source": [
        "#1. 載入模型\n",
        "from sklearn.svm import SVC"
      ],
      "metadata": {
        "id": "7V_JDcJ2S9uH"
      },
      "execution_count": 20,
      "outputs": []
    },
    {
      "cell_type": "code",
      "source": [
        "#2. 建立模型\n",
        "clf = SVC()"
      ],
      "metadata": {
        "id": "Kf_9DJ4DTOEf"
      },
      "execution_count": 21,
      "outputs": []
    },
    {
      "cell_type": "code",
      "source": [
        "#3. 訓練模型\n",
        "clf.fit(X_train, y_train)"
      ],
      "metadata": {
        "colab": {
          "base_uri": "https://localhost:8080/",
          "height": 75
        },
        "id": "W0334WZfTO2O",
        "outputId": "69088fc1-cb54-4d2d-b995-2ae4297b5770"
      },
      "execution_count": 22,
      "outputs": [
        {
          "output_type": "execute_result",
          "data": {
            "text/plain": [
              "SVC()"
            ],
            "text/html": [
              "<style>#sk-container-id-1 {color: black;background-color: white;}#sk-container-id-1 pre{padding: 0;}#sk-container-id-1 div.sk-toggleable {background-color: white;}#sk-container-id-1 label.sk-toggleable__label {cursor: pointer;display: block;width: 100%;margin-bottom: 0;padding: 0.3em;box-sizing: border-box;text-align: center;}#sk-container-id-1 label.sk-toggleable__label-arrow:before {content: \"▸\";float: left;margin-right: 0.25em;color: #696969;}#sk-container-id-1 label.sk-toggleable__label-arrow:hover:before {color: black;}#sk-container-id-1 div.sk-estimator:hover label.sk-toggleable__label-arrow:before {color: black;}#sk-container-id-1 div.sk-toggleable__content {max-height: 0;max-width: 0;overflow: hidden;text-align: left;background-color: #f0f8ff;}#sk-container-id-1 div.sk-toggleable__content pre {margin: 0.2em;color: black;border-radius: 0.25em;background-color: #f0f8ff;}#sk-container-id-1 input.sk-toggleable__control:checked~div.sk-toggleable__content {max-height: 200px;max-width: 100%;overflow: auto;}#sk-container-id-1 input.sk-toggleable__control:checked~label.sk-toggleable__label-arrow:before {content: \"▾\";}#sk-container-id-1 div.sk-estimator input.sk-toggleable__control:checked~label.sk-toggleable__label {background-color: #d4ebff;}#sk-container-id-1 div.sk-label input.sk-toggleable__control:checked~label.sk-toggleable__label {background-color: #d4ebff;}#sk-container-id-1 input.sk-hidden--visually {border: 0;clip: rect(1px 1px 1px 1px);clip: rect(1px, 1px, 1px, 1px);height: 1px;margin: -1px;overflow: hidden;padding: 0;position: absolute;width: 1px;}#sk-container-id-1 div.sk-estimator {font-family: monospace;background-color: #f0f8ff;border: 1px dotted black;border-radius: 0.25em;box-sizing: border-box;margin-bottom: 0.5em;}#sk-container-id-1 div.sk-estimator:hover {background-color: #d4ebff;}#sk-container-id-1 div.sk-parallel-item::after {content: \"\";width: 100%;border-bottom: 1px solid gray;flex-grow: 1;}#sk-container-id-1 div.sk-label:hover label.sk-toggleable__label {background-color: #d4ebff;}#sk-container-id-1 div.sk-serial::before {content: \"\";position: absolute;border-left: 1px solid gray;box-sizing: border-box;top: 0;bottom: 0;left: 50%;z-index: 0;}#sk-container-id-1 div.sk-serial {display: flex;flex-direction: column;align-items: center;background-color: white;padding-right: 0.2em;padding-left: 0.2em;position: relative;}#sk-container-id-1 div.sk-item {position: relative;z-index: 1;}#sk-container-id-1 div.sk-parallel {display: flex;align-items: stretch;justify-content: center;background-color: white;position: relative;}#sk-container-id-1 div.sk-item::before, #sk-container-id-1 div.sk-parallel-item::before {content: \"\";position: absolute;border-left: 1px solid gray;box-sizing: border-box;top: 0;bottom: 0;left: 50%;z-index: -1;}#sk-container-id-1 div.sk-parallel-item {display: flex;flex-direction: column;z-index: 1;position: relative;background-color: white;}#sk-container-id-1 div.sk-parallel-item:first-child::after {align-self: flex-end;width: 50%;}#sk-container-id-1 div.sk-parallel-item:last-child::after {align-self: flex-start;width: 50%;}#sk-container-id-1 div.sk-parallel-item:only-child::after {width: 0;}#sk-container-id-1 div.sk-dashed-wrapped {border: 1px dashed gray;margin: 0 0.4em 0.5em 0.4em;box-sizing: border-box;padding-bottom: 0.4em;background-color: white;}#sk-container-id-1 div.sk-label label {font-family: monospace;font-weight: bold;display: inline-block;line-height: 1.2em;}#sk-container-id-1 div.sk-label-container {text-align: center;}#sk-container-id-1 div.sk-container {/* jupyter's `normalize.less` sets `[hidden] { display: none; }` but bootstrap.min.css set `[hidden] { display: none !important; }` so we also need the `!important` here to be able to override the default hidden behavior on the sphinx rendered scikit-learn.org. See: https://github.com/scikit-learn/scikit-learn/issues/21755 */display: inline-block !important;position: relative;}#sk-container-id-1 div.sk-text-repr-fallback {display: none;}</style><div id=\"sk-container-id-1\" class=\"sk-top-container\"><div class=\"sk-text-repr-fallback\"><pre>SVC()</pre><b>In a Jupyter environment, please rerun this cell to show the HTML representation or trust the notebook. <br />On GitHub, the HTML representation is unable to render, please try loading this page with nbviewer.org.</b></div><div class=\"sk-container\" hidden><div class=\"sk-item\"><div class=\"sk-estimator sk-toggleable\"><input class=\"sk-toggleable__control sk-hidden--visually\" id=\"sk-estimator-id-1\" type=\"checkbox\" checked><label for=\"sk-estimator-id-1\" class=\"sk-toggleable__label sk-toggleable__label-arrow\">SVC</label><div class=\"sk-toggleable__content\"><pre>SVC()</pre></div></div></div></div></div>"
            ]
          },
          "metadata": {},
          "execution_count": 22
        }
      ]
    },
    {
      "cell_type": "code",
      "source": [
        "#4. 計算模型的Accuracy\n",
        "clf.score(X_test, y_test)"
      ],
      "metadata": {
        "colab": {
          "base_uri": "https://localhost:8080/"
        },
        "id": "hq1Tl5FxTS8-",
        "outputId": "2f3e15d2-f13a-4fca-db5e-32cacef39427"
      },
      "execution_count": 23,
      "outputs": [
        {
          "output_type": "execute_result",
          "data": {
            "text/plain": [
              "1.0"
            ]
          },
          "metadata": {},
          "execution_count": 23
        }
      ]
    },
    {
      "cell_type": "code",
      "source": [],
      "metadata": {
        "id": "TsyI7MauTlg2"
      },
      "execution_count": null,
      "outputs": []
    }
  ]
}