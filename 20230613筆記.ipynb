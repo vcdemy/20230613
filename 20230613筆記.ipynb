{
  "nbformat": 4,
  "nbformat_minor": 0,
  "metadata": {
    "colab": {
      "provenance": [],
      "authorship_tag": "ABX9TyN6jMMe/KlYCeGWWbEfSXOM",
      "include_colab_link": true
    },
    "kernelspec": {
      "name": "python3",
      "display_name": "Python 3"
    },
    "language_info": {
      "name": "python"
    }
  },
  "cells": [
    {
      "cell_type": "markdown",
      "metadata": {
        "id": "view-in-github",
        "colab_type": "text"
      },
      "source": [
        "<a href=\"https://colab.research.google.com/github/vcdemy/20230613/blob/main/20230613%E7%AD%86%E8%A8%98.ipynb\" target=\"_parent\"><img src=\"https://colab.research.google.com/assets/colab-badge.svg\" alt=\"Open In Colab\"/></a>"
      ]
    },
    {
      "cell_type": "markdown",
      "source": [
        "# 20230613 筆記"
      ],
      "metadata": {
        "id": "hfOuWERvUH5G"
      }
    },
    {
      "cell_type": "markdown",
      "source": [
        "## 練習 (ZJ 005)\n",
        "\n",
        "https://zerojudge.tw/ShowProblem?problemid=a005"
      ],
      "metadata": {
        "id": "B3YQjjolVruz"
      }
    },
    {
      "cell_type": "code",
      "execution_count": 1,
      "metadata": {
        "colab": {
          "base_uri": "https://localhost:8080/"
        },
        "id": "9LixKtV7UECM",
        "outputId": "f4d0aca5-f440-4007-c3b8-58cd64c4c648"
      },
      "outputs": [
        {
          "name": "stdout",
          "output_type": "stream",
          "text": [
            "3\n"
          ]
        }
      ],
      "source": [
        "x = input()"
      ]
    },
    {
      "cell_type": "code",
      "source": [
        "x"
      ],
      "metadata": {
        "colab": {
          "base_uri": "https://localhost:8080/",
          "height": 35
        },
        "id": "HWge6fnkVhRE",
        "outputId": "6db876a9-5bc9-4278-84c2-eea67618e1fc"
      },
      "execution_count": 2,
      "outputs": [
        {
          "output_type": "execute_result",
          "data": {
            "text/plain": [
              "'3'"
            ],
            "application/vnd.google.colaboratory.intrinsic+json": {
              "type": "string"
            }
          },
          "metadata": {},
          "execution_count": 2
        }
      ]
    },
    {
      "cell_type": "code",
      "source": [
        "x = int(input())"
      ],
      "metadata": {
        "colab": {
          "base_uri": "https://localhost:8080/"
        },
        "id": "40R8wzYXVmB7",
        "outputId": "ed1d09d6-bdac-4793-dc28-c2e42a247827"
      },
      "execution_count": 3,
      "outputs": [
        {
          "name": "stdout",
          "output_type": "stream",
          "text": [
            "3\n"
          ]
        }
      ]
    },
    {
      "cell_type": "code",
      "source": [
        "x"
      ],
      "metadata": {
        "colab": {
          "base_uri": "https://localhost:8080/"
        },
        "id": "Jo8aPwWVV6Jf",
        "outputId": "a844076a-7bee-4b98-d404-2a88e2361604"
      },
      "execution_count": 4,
      "outputs": [
        {
          "output_type": "execute_result",
          "data": {
            "text/plain": [
              "3"
            ]
          },
          "metadata": {},
          "execution_count": 4
        }
      ]
    },
    {
      "cell_type": "code",
      "source": [
        "x = int(input())\n",
        "for i in range(x):\n",
        "  y = input()\n",
        "  print(y)"
      ],
      "metadata": {
        "colab": {
          "base_uri": "https://localhost:8080/"
        },
        "id": "tYKeLodPV7rj",
        "outputId": "3329a84f-f3e0-4169-c6d1-6f8f2651dddb"
      },
      "execution_count": 5,
      "outputs": [
        {
          "output_type": "stream",
          "name": "stdout",
          "text": [
            "2\n",
            "1 2 3 4\n",
            "1 2 3 4\n",
            "1 2 3 4 5\n",
            "1 2 3 4 5\n"
          ]
        }
      ]
    },
    {
      "cell_type": "code",
      "source": [
        "x = int(input())\n",
        "for i in range(x):\n",
        "  y = input().split()\n",
        "  print(y)"
      ],
      "metadata": {
        "colab": {
          "base_uri": "https://localhost:8080/"
        },
        "id": "by4KtXy3WORU",
        "outputId": "d0f222ec-5a3d-45a0-cea0-41935ce90cdb"
      },
      "execution_count": 6,
      "outputs": [
        {
          "output_type": "stream",
          "name": "stdout",
          "text": [
            "2\n",
            "1 2 3 4\n",
            "['1', '2', '3', '4']\n",
            "1 2 3 4 5\n",
            "['1', '2', '3', '4', '5']\n"
          ]
        }
      ]
    },
    {
      "cell_type": "code",
      "source": [
        "x = int(input())\n",
        "for i in range(x):\n",
        "  y = input()\n",
        "  z = y.split()\n",
        "  if (int(z[1])-int(z[0]))==(int(z[2])-int(z[1])):\n",
        "    print(y + \" \" + str(int(z[3]) + int(z[1]) - int(z[0])))"
      ],
      "metadata": {
        "colab": {
          "base_uri": "https://localhost:8080/"
        },
        "id": "5t8EnIBcW1GC",
        "outputId": "f050643c-b4ff-454b-bbb1-83853548dd46"
      },
      "execution_count": 10,
      "outputs": [
        {
          "output_type": "stream",
          "name": "stdout",
          "text": [
            "1\n",
            "1 2 3 4\n",
            "1 2 3 4 5\n"
          ]
        }
      ]
    },
    {
      "cell_type": "code",
      "source": [
        "x = int(input())\n",
        "for i in range(x):\n",
        "  y = input()\n",
        "  z = y.split()\n",
        "  if (int(z[1])-int(z[0]))==(int(z[2])-int(z[1])):\n",
        "    print(y + \" \" + str(int(z[3]) + int(z[1]) - int(z[0])))\n",
        "  else:\n",
        "    print(y + \" \" + str(int(z[3])*((int(z[1])//int(z[0])))))"
      ],
      "metadata": {
        "colab": {
          "base_uri": "https://localhost:8080/"
        },
        "id": "iDJQwas1YJyl",
        "outputId": "942a152a-f0fd-4e5b-c3f7-9315df20ce68"
      },
      "execution_count": 11,
      "outputs": [
        {
          "output_type": "stream",
          "name": "stdout",
          "text": [
            "2\n",
            "1 2 3 4\n",
            "1 2 3 4 5\n",
            "1 2 4 8\n",
            "1 2 4 8 16\n"
          ]
        }
      ]
    },
    {
      "cell_type": "code",
      "source": [
        "x = int(input())\n",
        "for i in range(x):\n",
        "  y = input()\n",
        "  z = list(map(int, y.split()))\n",
        "  if (z[1]-z[0])==(z[2]-z[1]):\n",
        "    print(y + \" \" + str(z[3] + z[1] - z[0]))\n",
        "  else:\n",
        "    print(y + \" \" + str(z[3]*(z[1]//z[0])))"
      ],
      "metadata": {
        "colab": {
          "base_uri": "https://localhost:8080/"
        },
        "id": "p8W4tiSaZ3sK",
        "outputId": "654ddac6-8925-45ae-dfe7-e01cb3e58e67"
      },
      "execution_count": 12,
      "outputs": [
        {
          "output_type": "stream",
          "name": "stdout",
          "text": [
            "2\n",
            "1 2 3 4\n",
            "1 2 3 4 5\n",
            "1 2 4 8\n",
            "1 2 4 8 16\n"
          ]
        }
      ]
    },
    {
      "cell_type": "code",
      "source": [
        "!pip list"
      ],
      "metadata": {
        "id": "aIdsEVjObuZM"
      },
      "execution_count": null,
      "outputs": []
    },
    {
      "cell_type": "markdown",
      "source": [
        "## 練習 (ZJ 004)\n",
        "\n",
        "https://zerojudge.tw/ShowProblem?problemid=a004"
      ],
      "metadata": {
        "id": "D_0c9JqQc5lc"
      }
    },
    {
      "cell_type": "code",
      "source": [
        "while True:\n",
        "  x = input()\n",
        "  if x:\n",
        "    print(\"平年\")\n",
        "  else:\n",
        "    break"
      ],
      "metadata": {
        "colab": {
          "base_uri": "https://localhost:8080/"
        },
        "id": "twuNiwSSciGH",
        "outputId": "bec135e9-7b76-49fb-8a04-08cd08fb9e84"
      },
      "execution_count": 14,
      "outputs": [
        {
          "name": "stdout",
          "output_type": "stream",
          "text": [
            "1918\n",
            "平年\n",
            "\n"
          ]
        }
      ]
    },
    {
      "cell_type": "code",
      "source": [
        "while True:\n",
        "  x = input()\n",
        "  if x:\n",
        "    if int(x) % 400 == 0:\n",
        "      print(\"閏年\")\n",
        "    elif (int(x) % 4 ==0) and (int(x) % 100 != 0):\n",
        "      print(\"閏年\")\n",
        "    else:\n",
        "      print(\"平年\")\n",
        "  else:\n",
        "    break"
      ],
      "metadata": {
        "colab": {
          "base_uri": "https://localhost:8080/"
        },
        "id": "IY9tTPDpdvCx",
        "outputId": "11b5128e-ea03-4761-c52a-1e2f3e303072"
      },
      "execution_count": 15,
      "outputs": [
        {
          "name": "stdout",
          "output_type": "stream",
          "text": [
            "1977\n",
            "平年\n",
            "1980\n",
            "閏年\n",
            "2000\n",
            "閏年\n",
            "2100\n",
            "平年\n",
            "\n"
          ]
        }
      ]
    },
    {
      "cell_type": "code",
      "source": [
        "while True:\n",
        "  try:\n",
        "    x = input()\n",
        "    if int(x) % 400 == 0:\n",
        "      print(\"閏年\")\n",
        "    elif (int(x) % 4 ==0) and (int(x) % 100 != 0):\n",
        "      print(\"閏年\")\n",
        "    else:\n",
        "      print(\"平年\")\n",
        "  except Exception as e:\n",
        "    break"
      ],
      "metadata": {
        "id": "V4kpdX31etIO"
      },
      "execution_count": null,
      "outputs": []
    }
  ]
}