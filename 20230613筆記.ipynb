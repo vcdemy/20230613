{
  "nbformat": 4,
  "nbformat_minor": 0,
  "metadata": {
    "colab": {
      "provenance": [],
      "authorship_tag": "ABX9TyPmDOKlpb3vZrnuNHi6NIou",
      "include_colab_link": true
    },
    "kernelspec": {
      "name": "python3",
      "display_name": "Python 3"
    },
    "language_info": {
      "name": "python"
    }
  },
  "cells": [
    {
      "cell_type": "markdown",
      "metadata": {
        "id": "view-in-github",
        "colab_type": "text"
      },
      "source": [
        "<a href=\"https://colab.research.google.com/github/vcdemy/20230613/blob/main/20230613%E7%AD%86%E8%A8%98.ipynb\" target=\"_parent\"><img src=\"https://colab.research.google.com/assets/colab-badge.svg\" alt=\"Open In Colab\"/></a>"
      ]
    },
    {
      "cell_type": "markdown",
      "source": [
        "# 20230613 筆記"
      ],
      "metadata": {
        "id": "hfOuWERvUH5G"
      }
    },
    {
      "cell_type": "markdown",
      "source": [
        "## 練習 (ZJ 005)\n",
        "\n",
        "https://zerojudge.tw/ShowProblem?problemid=a005"
      ],
      "metadata": {
        "id": "B3YQjjolVruz"
      }
    },
    {
      "cell_type": "code",
      "execution_count": 1,
      "metadata": {
        "colab": {
          "base_uri": "https://localhost:8080/"
        },
        "id": "9LixKtV7UECM",
        "outputId": "f4d0aca5-f440-4007-c3b8-58cd64c4c648"
      },
      "outputs": [
        {
          "name": "stdout",
          "output_type": "stream",
          "text": [
            "3\n"
          ]
        }
      ],
      "source": [
        "x = input()"
      ]
    },
    {
      "cell_type": "code",
      "source": [
        "x"
      ],
      "metadata": {
        "colab": {
          "base_uri": "https://localhost:8080/",
          "height": 35
        },
        "id": "HWge6fnkVhRE",
        "outputId": "6db876a9-5bc9-4278-84c2-eea67618e1fc"
      },
      "execution_count": 2,
      "outputs": [
        {
          "output_type": "execute_result",
          "data": {
            "text/plain": [
              "'3'"
            ],
            "application/vnd.google.colaboratory.intrinsic+json": {
              "type": "string"
            }
          },
          "metadata": {},
          "execution_count": 2
        }
      ]
    },
    {
      "cell_type": "code",
      "source": [
        "x = int(input())"
      ],
      "metadata": {
        "colab": {
          "base_uri": "https://localhost:8080/"
        },
        "id": "40R8wzYXVmB7",
        "outputId": "ed1d09d6-bdac-4793-dc28-c2e42a247827"
      },
      "execution_count": 3,
      "outputs": [
        {
          "name": "stdout",
          "output_type": "stream",
          "text": [
            "3\n"
          ]
        }
      ]
    },
    {
      "cell_type": "code",
      "source": [
        "x"
      ],
      "metadata": {
        "colab": {
          "base_uri": "https://localhost:8080/"
        },
        "id": "Jo8aPwWVV6Jf",
        "outputId": "a844076a-7bee-4b98-d404-2a88e2361604"
      },
      "execution_count": 4,
      "outputs": [
        {
          "output_type": "execute_result",
          "data": {
            "text/plain": [
              "3"
            ]
          },
          "metadata": {},
          "execution_count": 4
        }
      ]
    },
    {
      "cell_type": "code",
      "source": [
        "x = int(input())\n",
        "for i in range(x):\n",
        "  y = input()\n",
        "  print(y)"
      ],
      "metadata": {
        "colab": {
          "base_uri": "https://localhost:8080/"
        },
        "id": "tYKeLodPV7rj",
        "outputId": "3329a84f-f3e0-4169-c6d1-6f8f2651dddb"
      },
      "execution_count": 5,
      "outputs": [
        {
          "output_type": "stream",
          "name": "stdout",
          "text": [
            "2\n",
            "1 2 3 4\n",
            "1 2 3 4\n",
            "1 2 3 4 5\n",
            "1 2 3 4 5\n"
          ]
        }
      ]
    },
    {
      "cell_type": "code",
      "source": [
        "x = int(input())\n",
        "for i in range(x):\n",
        "  y = input().split()\n",
        "  print(y)"
      ],
      "metadata": {
        "colab": {
          "base_uri": "https://localhost:8080/"
        },
        "id": "by4KtXy3WORU",
        "outputId": "d0f222ec-5a3d-45a0-cea0-41935ce90cdb"
      },
      "execution_count": 6,
      "outputs": [
        {
          "output_type": "stream",
          "name": "stdout",
          "text": [
            "2\n",
            "1 2 3 4\n",
            "['1', '2', '3', '4']\n",
            "1 2 3 4 5\n",
            "['1', '2', '3', '4', '5']\n"
          ]
        }
      ]
    },
    {
      "cell_type": "code",
      "source": [
        "x = int(input())\n",
        "for i in range(x):\n",
        "  y = input()\n",
        "  z = y.split()\n",
        "  if (int(z[1])-int(z[0]))==(int(z[2])-int(z[1])):\n",
        "    print(y + \" \" + str(int(z[3]) + int(z[1]) - int(z[0])))"
      ],
      "metadata": {
        "colab": {
          "base_uri": "https://localhost:8080/"
        },
        "id": "5t8EnIBcW1GC",
        "outputId": "f050643c-b4ff-454b-bbb1-83853548dd46"
      },
      "execution_count": 10,
      "outputs": [
        {
          "output_type": "stream",
          "name": "stdout",
          "text": [
            "1\n",
            "1 2 3 4\n",
            "1 2 3 4 5\n"
          ]
        }
      ]
    },
    {
      "cell_type": "code",
      "source": [
        "x = int(input())\n",
        "for i in range(x):\n",
        "  y = input()\n",
        "  z = y.split()\n",
        "  if (int(z[1])-int(z[0]))==(int(z[2])-int(z[1])):\n",
        "    print(y + \" \" + str(int(z[3]) + int(z[1]) - int(z[0])))\n",
        "  else:\n",
        "    print(y + \" \" + str(int(z[3])*((int(z[1])//int(z[0])))))"
      ],
      "metadata": {
        "colab": {
          "base_uri": "https://localhost:8080/"
        },
        "id": "iDJQwas1YJyl",
        "outputId": "942a152a-f0fd-4e5b-c3f7-9315df20ce68"
      },
      "execution_count": 11,
      "outputs": [
        {
          "output_type": "stream",
          "name": "stdout",
          "text": [
            "2\n",
            "1 2 3 4\n",
            "1 2 3 4 5\n",
            "1 2 4 8\n",
            "1 2 4 8 16\n"
          ]
        }
      ]
    },
    {
      "cell_type": "code",
      "source": [
        "x = int(input())\n",
        "for i in range(x):\n",
        "  y = input()\n",
        "  z = list(map(int, y.split()))\n",
        "  if (z[1]-z[0])==(z[2]-z[1]):\n",
        "    print(y + \" \" + str(z[3] + z[1] - z[0]))\n",
        "  else:\n",
        "    print(y + \" \" + str(z[3]*(z[1]//z[0])))"
      ],
      "metadata": {
        "colab": {
          "base_uri": "https://localhost:8080/"
        },
        "id": "p8W4tiSaZ3sK",
        "outputId": "654ddac6-8925-45ae-dfe7-e01cb3e58e67"
      },
      "execution_count": 12,
      "outputs": [
        {
          "output_type": "stream",
          "name": "stdout",
          "text": [
            "2\n",
            "1 2 3 4\n",
            "1 2 3 4 5\n",
            "1 2 4 8\n",
            "1 2 4 8 16\n"
          ]
        }
      ]
    },
    {
      "cell_type": "code",
      "source": [
        "!pip list"
      ],
      "metadata": {
        "id": "aIdsEVjObuZM"
      },
      "execution_count": null,
      "outputs": []
    },
    {
      "cell_type": "markdown",
      "source": [
        "## 練習 (ZJ 004)\n",
        "\n",
        "https://zerojudge.tw/ShowProblem?problemid=a004"
      ],
      "metadata": {
        "id": "D_0c9JqQc5lc"
      }
    },
    {
      "cell_type": "code",
      "source": [
        "while True:\n",
        "  x = input()\n",
        "  if x:\n",
        "    print(\"平年\")\n",
        "  else:\n",
        "    break"
      ],
      "metadata": {
        "colab": {
          "base_uri": "https://localhost:8080/"
        },
        "id": "twuNiwSSciGH",
        "outputId": "bec135e9-7b76-49fb-8a04-08cd08fb9e84"
      },
      "execution_count": 14,
      "outputs": [
        {
          "name": "stdout",
          "output_type": "stream",
          "text": [
            "1918\n",
            "平年\n",
            "\n"
          ]
        }
      ]
    },
    {
      "cell_type": "code",
      "source": [
        "# 底下的作法在ZeroJudge上面會遇到EOFError的錯誤！\n",
        "# 需要使用例外處理的方式來處理EOF的狀況!\n",
        "while True:\n",
        "  x = input()\n",
        "  if x:\n",
        "    if int(x) % 400 == 0:\n",
        "      print(\"閏年\")\n",
        "    elif (int(x) % 4 ==0) and (int(x) % 100 != 0):\n",
        "      print(\"閏年\")\n",
        "    else:\n",
        "      print(\"平年\")\n",
        "  else:\n",
        "    break"
      ],
      "metadata": {
        "colab": {
          "base_uri": "https://localhost:8080/"
        },
        "id": "IY9tTPDpdvCx",
        "outputId": "11b5128e-ea03-4761-c52a-1e2f3e303072"
      },
      "execution_count": 15,
      "outputs": [
        {
          "name": "stdout",
          "output_type": "stream",
          "text": [
            "1977\n",
            "平年\n",
            "1980\n",
            "閏年\n",
            "2000\n",
            "閏年\n",
            "2100\n",
            "平年\n",
            "\n"
          ]
        }
      ]
    },
    {
      "cell_type": "code",
      "source": [
        "# 使用例外處理取捕捉 EOF Error 的狀況，在產生錯誤的時候，就使用break跳出迴圈。\n",
        "while True:\n",
        "  try:\n",
        "    x = input()\n",
        "    if int(x) % 400 == 0:\n",
        "      print(\"閏年\")\n",
        "    elif (int(x) % 4 ==0) and (int(x) % 100 != 0):\n",
        "      print(\"閏年\")\n",
        "    else:\n",
        "      print(\"平年\")\n",
        "  except Exception as e:\n",
        "    break"
      ],
      "metadata": {
        "id": "V4kpdX31etIO"
      },
      "execution_count": null,
      "outputs": []
    },
    {
      "cell_type": "markdown",
      "source": [
        "## for迴圈 v.s., while迴圈\n",
        "\n",
        "包含 break 跟 continue 的用法！"
      ],
      "metadata": {
        "id": "_eB8PjDTjbxC"
      }
    },
    {
      "cell_type": "markdown",
      "source": [
        "### for迴圈"
      ],
      "metadata": {
        "id": "IWsTT_JAjz7M"
      }
    },
    {
      "cell_type": "code",
      "source": [
        "for i in range(5):\n",
        "  print(i)"
      ],
      "metadata": {
        "colab": {
          "base_uri": "https://localhost:8080/"
        },
        "id": "5HurVwnajgD0",
        "outputId": "3aeed420-32a6-4131-b026-bf345ada6023"
      },
      "execution_count": 16,
      "outputs": [
        {
          "output_type": "stream",
          "name": "stdout",
          "text": [
            "0\n",
            "1\n",
            "2\n",
            "3\n",
            "4\n"
          ]
        }
      ]
    },
    {
      "cell_type": "code",
      "source": [
        "# 列出單數(odd number)\n",
        "for i in range(10):\n",
        "  if i % 2 == 1:\n",
        "    print(i)"
      ],
      "metadata": {
        "id": "dIiA4mt8j3px"
      },
      "execution_count": null,
      "outputs": []
    },
    {
      "cell_type": "code",
      "source": [
        "# 列出單數(odd number)\n",
        "for i in range(10):\n",
        "  if i % 2 == 0:\n",
        "    continue\n",
        "  print(i)"
      ],
      "metadata": {
        "colab": {
          "base_uri": "https://localhost:8080/"
        },
        "id": "op-ZqJvekNSQ",
        "outputId": "2be8bcd5-aafd-480b-f90c-b43b3da61579"
      },
      "execution_count": 18,
      "outputs": [
        {
          "output_type": "stream",
          "name": "stdout",
          "text": [
            "1\n",
            "3\n",
            "5\n",
            "7\n",
            "9\n"
          ]
        }
      ]
    },
    {
      "cell_type": "code",
      "source": [
        "# 直接跳過i==5的狀況\n",
        "for i in range(10):\n",
        "  if i == 5:\n",
        "    continue\n",
        "  print(i)"
      ],
      "metadata": {
        "id": "w1gCgtQtkaIk"
      },
      "execution_count": null,
      "outputs": []
    },
    {
      "cell_type": "code",
      "source": [
        "for i in range(10):\n",
        "  if i == 5:\n",
        "    break\n",
        "  print(i)"
      ],
      "metadata": {
        "colab": {
          "base_uri": "https://localhost:8080/"
        },
        "id": "pmMaYGqClZNX",
        "outputId": "d954fc91-2849-4f96-f44d-966e090ff2b1"
      },
      "execution_count": 24,
      "outputs": [
        {
          "output_type": "stream",
          "name": "stdout",
          "text": [
            "0\n",
            "1\n",
            "2\n",
            "3\n",
            "4\n"
          ]
        }
      ]
    },
    {
      "cell_type": "markdown",
      "source": [
        "### while迴圈\n",
        "\n",
        "```python\n",
        "while 條件式:\n",
        "  程式區塊\n",
        "```"
      ],
      "metadata": {
        "id": "a4H5_qs-m9wc"
      }
    },
    {
      "cell_type": "code",
      "source": [
        "n = 0\n",
        "while n < 10:\n",
        "  print(n)\n",
        "  n = n + 1"
      ],
      "metadata": {
        "colab": {
          "base_uri": "https://localhost:8080/"
        },
        "id": "eSrfrsTjmTiQ",
        "outputId": "7114b9fe-c706-4983-b650-7a9207bf2f66"
      },
      "execution_count": 25,
      "outputs": [
        {
          "output_type": "stream",
          "name": "stdout",
          "text": [
            "0\n",
            "1\n",
            "2\n",
            "3\n",
            "4\n",
            "5\n",
            "6\n",
            "7\n",
            "8\n",
            "9\n"
          ]
        }
      ]
    },
    {
      "cell_type": "code",
      "source": [
        "def foo(n):\n",
        "  return n**2 < 100"
      ],
      "metadata": {
        "id": "qHv3O8eYnJqp"
      },
      "execution_count": 26,
      "outputs": []
    },
    {
      "cell_type": "code",
      "source": [
        "n = 0\n",
        "while foo(n):\n",
        "  print(n)\n",
        "  n = n + 1"
      ],
      "metadata": {
        "colab": {
          "base_uri": "https://localhost:8080/"
        },
        "id": "J1_iEFG6n5vA",
        "outputId": "dc696d44-5510-4a6d-f5a5-3311a82e41d1"
      },
      "execution_count": 27,
      "outputs": [
        {
          "output_type": "stream",
          "name": "stdout",
          "text": [
            "0\n",
            "1\n",
            "2\n",
            "3\n",
            "4\n",
            "5\n",
            "6\n",
            "7\n",
            "8\n",
            "9\n"
          ]
        }
      ]
    },
    {
      "cell_type": "markdown",
      "source": [
        "## 練習 (ZJ 009)\n",
        "\n",
        "https://zerojudge.tw/ShowProblem?problemid=a009"
      ],
      "metadata": {
        "id": "VO7prRJfuEVh"
      }
    },
    {
      "cell_type": "code",
      "source": [
        "ord('a')"
      ],
      "metadata": {
        "id": "QjdeAPjcoAO-"
      },
      "execution_count": null,
      "outputs": []
    },
    {
      "cell_type": "code",
      "source": [
        "chr(97)"
      ],
      "metadata": {
        "id": "2jN35NKwuLrb"
      },
      "execution_count": null,
      "outputs": []
    },
    {
      "cell_type": "code",
      "source": [
        "for i in 'abc':\n",
        "  print(i)"
      ],
      "metadata": {
        "id": "p2wggtSLuPNe"
      },
      "execution_count": null,
      "outputs": []
    },
    {
      "cell_type": "code",
      "source": [
        "for i in 'abc':\n",
        "  print(ord(i))"
      ],
      "metadata": {
        "id": "JMKXZIBPuVXd"
      },
      "execution_count": null,
      "outputs": []
    },
    {
      "cell_type": "code",
      "source": [
        "for i in 'abc':\n",
        "  print(chr(ord(i)+2))"
      ],
      "metadata": {
        "id": "Imd4lT4JudNu"
      },
      "execution_count": null,
      "outputs": []
    },
    {
      "cell_type": "code",
      "source": [
        "for i in 'abc':\n",
        "  print(chr(ord(i)+2), end=\"\")"
      ],
      "metadata": {
        "colab": {
          "base_uri": "https://localhost:8080/"
        },
        "id": "ZGDRYeBSu1Ao",
        "outputId": "cee7a20c-a192-4e5a-f17d-1455e1fe3feb"
      },
      "execution_count": 35,
      "outputs": [
        {
          "output_type": "stream",
          "name": "stdout",
          "text": [
            "cde"
          ]
        }
      ]
    },
    {
      "cell_type": "code",
      "source": [],
      "metadata": {
        "id": "zixJ0lnivD4L"
      },
      "execution_count": null,
      "outputs": []
    }
  ]
}